{
 "cells": [
  {
   "cell_type": "markdown",
   "metadata": {},
   "source": [
    "# Mapa das escolas do RS por taxa de distorção de série"
   ]
  },
  {
   "cell_type": "code",
   "execution_count": 2,
   "metadata": {},
   "outputs": [
    {
     "name": "stdout",
     "output_type": "stream",
     "text": [
      "Collecting folium\n",
      "\u001b[?25l  Downloading https://files.pythonhosted.org/packages/fd/a0/ccb3094026649cda4acd55bf2c3822bb8c277eb11446d13d384e5be35257/folium-0.10.1-py2.py3-none-any.whl (91kB)\n",
      "\u001b[K     |████████████████████████████████| 92kB 1.2MB/s eta 0:00:01\n",
      "\u001b[?25hCollecting branca>=0.3.0 (from folium)\n",
      "  Downloading https://files.pythonhosted.org/packages/81/6d/31c83485189a2521a75b4130f1fee5364f772a0375f81afff619004e5237/branca-0.4.0-py3-none-any.whl\n",
      "Requirement already satisfied: requests in /root/anaconda3/lib/python3.7/site-packages (from folium) (2.22.0)\n",
      "Requirement already satisfied: jinja2>=2.9 in /root/anaconda3/lib/python3.7/site-packages (from folium) (2.10.3)\n",
      "Requirement already satisfied: numpy in /root/anaconda3/lib/python3.7/site-packages (from folium) (1.17.2)\n",
      "Requirement already satisfied: six in /root/anaconda3/lib/python3.7/site-packages (from branca>=0.3.0->folium) (1.12.0)\n",
      "Requirement already satisfied: idna<2.9,>=2.5 in /root/anaconda3/lib/python3.7/site-packages (from requests->folium) (2.8)\n",
      "Requirement already satisfied: chardet<3.1.0,>=3.0.2 in /root/anaconda3/lib/python3.7/site-packages (from requests->folium) (3.0.4)\n",
      "Requirement already satisfied: urllib3!=1.25.0,!=1.25.1,<1.26,>=1.21.1 in /root/anaconda3/lib/python3.7/site-packages (from requests->folium) (1.24.2)\n",
      "Requirement already satisfied: certifi>=2017.4.17 in /root/anaconda3/lib/python3.7/site-packages (from requests->folium) (2019.9.11)\n",
      "Requirement already satisfied: MarkupSafe>=0.23 in /root/anaconda3/lib/python3.7/site-packages (from jinja2>=2.9->folium) (1.1.1)\n",
      "Installing collected packages: branca, folium\n",
      "Successfully installed branca-0.4.0 folium-0.10.1\n"
     ]
    }
   ],
   "source": [
    "# Instalamos o pacote folium\n",
    "# a ! permite a execução de comandos diretamente no jupyter notebook\n",
    "!pip install folium"
   ]
  },
  {
   "cell_type": "code",
   "execution_count": 3,
   "metadata": {},
   "outputs": [],
   "source": [
    "# Importando as bibliotecas\n",
    "import pandas as pd\n",
    "import folium\n",
    "\n",
    "%matplotlib inline"
   ]
  },
  {
   "cell_type": "code",
   "execution_count": 8,
   "metadata": {},
   "outputs": [
    {
     "data": {
      "text/html": [
       "<div>\n",
       "<style scoped>\n",
       "    .dataframe tbody tr th:only-of-type {\n",
       "        vertical-align: middle;\n",
       "    }\n",
       "\n",
       "    .dataframe tbody tr th {\n",
       "        vertical-align: top;\n",
       "    }\n",
       "\n",
       "    .dataframe thead th {\n",
       "        text-align: right;\n",
       "    }\n",
       "</style>\n",
       "<table border=\"1\" class=\"dataframe\">\n",
       "  <thead>\n",
       "    <tr style=\"text-align: right;\">\n",
       "      <th></th>\n",
       "      <th>Município</th>\n",
       "      <th>ibge</th>\n",
       "      <th>latitude</th>\n",
       "      <th>longitude</th>\n",
       "      <th>/Educação/Ens...de Série/Total 2013 (-)</th>\n",
       "    </tr>\n",
       "  </thead>\n",
       "  <tbody>\n",
       "    <tr>\n",
       "      <td>0</td>\n",
       "      <td>Aceguá</td>\n",
       "      <td>4300034</td>\n",
       "      <td>-31.86076</td>\n",
       "      <td>-54.16706</td>\n",
       "      <td>25,7</td>\n",
       "    </tr>\n",
       "    <tr>\n",
       "      <td>1</td>\n",
       "      <td>Água Santa</td>\n",
       "      <td>4300059</td>\n",
       "      <td>-28.16720</td>\n",
       "      <td>-52.03100</td>\n",
       "      <td>14,7</td>\n",
       "    </tr>\n",
       "    <tr>\n",
       "      <td>2</td>\n",
       "      <td>Agudo</td>\n",
       "      <td>4300109</td>\n",
       "      <td>-29.64470</td>\n",
       "      <td>-53.25150</td>\n",
       "      <td>26,4</td>\n",
       "    </tr>\n",
       "    <tr>\n",
       "      <td>3</td>\n",
       "      <td>Ajuricaba</td>\n",
       "      <td>4300208</td>\n",
       "      <td>-28.23420</td>\n",
       "      <td>-53.77570</td>\n",
       "      <td>24,1</td>\n",
       "    </tr>\n",
       "    <tr>\n",
       "      <td>4</td>\n",
       "      <td>Alecrim</td>\n",
       "      <td>4300307</td>\n",
       "      <td>-27.65790</td>\n",
       "      <td>-54.76490</td>\n",
       "      <td>18,9</td>\n",
       "    </tr>\n",
       "  </tbody>\n",
       "</table>\n",
       "</div>"
      ],
      "text/plain": [
       "    Município     ibge  latitude  longitude  \\\n",
       "0      Aceguá  4300034 -31.86076  -54.16706   \n",
       "1  Água Santa  4300059 -28.16720  -52.03100   \n",
       "2       Agudo  4300109 -29.64470  -53.25150   \n",
       "3   Ajuricaba  4300208 -28.23420  -53.77570   \n",
       "4     Alecrim  4300307 -27.65790  -54.76490   \n",
       "\n",
       "  /Educação/Ens...de Série/Total 2013 (-)  \n",
       "0                                    25,7  \n",
       "1                                    14,7  \n",
       "2                                    26,4  \n",
       "3                                    24,1  \n",
       "4                                    18,9  "
      ]
     },
     "execution_count": 8,
     "metadata": {},
     "output_type": "execute_result"
    }
   ],
   "source": [
    "# Carregar o arquivo csv\n",
    "df = pd.read_csv('fee-2013-mun-taxa-de-distorcao-idade-serie-total-102524.csv', encoding='latin1', skiprows=1)\n",
    "\n",
    "df.head()"
   ]
  },
  {
   "cell_type": "code",
   "execution_count": 12,
   "metadata": {},
   "outputs": [
    {
     "data": {
      "text/html": [
       "<div>\n",
       "<style scoped>\n",
       "    .dataframe tbody tr th:only-of-type {\n",
       "        vertical-align: middle;\n",
       "    }\n",
       "\n",
       "    .dataframe tbody tr th {\n",
       "        vertical-align: top;\n",
       "    }\n",
       "\n",
       "    .dataframe thead th {\n",
       "        text-align: right;\n",
       "    }\n",
       "</style>\n",
       "<table border=\"1\" class=\"dataframe\">\n",
       "  <thead>\n",
       "    <tr style=\"text-align: right;\">\n",
       "      <th></th>\n",
       "      <th>Município</th>\n",
       "      <th>ibge</th>\n",
       "      <th>latitude</th>\n",
       "      <th>longitude</th>\n",
       "      <th>tx_distorcao</th>\n",
       "    </tr>\n",
       "  </thead>\n",
       "  <tbody>\n",
       "    <tr>\n",
       "      <td>0</td>\n",
       "      <td>Aceguá</td>\n",
       "      <td>4300034</td>\n",
       "      <td>-31.86076</td>\n",
       "      <td>-54.16706</td>\n",
       "      <td>25,7</td>\n",
       "    </tr>\n",
       "    <tr>\n",
       "      <td>1</td>\n",
       "      <td>Água Santa</td>\n",
       "      <td>4300059</td>\n",
       "      <td>-28.16720</td>\n",
       "      <td>-52.03100</td>\n",
       "      <td>14,7</td>\n",
       "    </tr>\n",
       "    <tr>\n",
       "      <td>2</td>\n",
       "      <td>Agudo</td>\n",
       "      <td>4300109</td>\n",
       "      <td>-29.64470</td>\n",
       "      <td>-53.25150</td>\n",
       "      <td>26,4</td>\n",
       "    </tr>\n",
       "    <tr>\n",
       "      <td>3</td>\n",
       "      <td>Ajuricaba</td>\n",
       "      <td>4300208</td>\n",
       "      <td>-28.23420</td>\n",
       "      <td>-53.77570</td>\n",
       "      <td>24,1</td>\n",
       "    </tr>\n",
       "    <tr>\n",
       "      <td>4</td>\n",
       "      <td>Alecrim</td>\n",
       "      <td>4300307</td>\n",
       "      <td>-27.65790</td>\n",
       "      <td>-54.76490</td>\n",
       "      <td>18,9</td>\n",
       "    </tr>\n",
       "  </tbody>\n",
       "</table>\n",
       "</div>"
      ],
      "text/plain": [
       "    Município     ibge  latitude  longitude tx_distorcao\n",
       "0      Aceguá  4300034 -31.86076  -54.16706         25,7\n",
       "1  Água Santa  4300059 -28.16720  -52.03100         14,7\n",
       "2       Agudo  4300109 -29.64470  -53.25150         26,4\n",
       "3   Ajuricaba  4300208 -28.23420  -53.77570         24,1\n",
       "4     Alecrim  4300307 -27.65790  -54.76490         18,9"
      ]
     },
     "execution_count": 12,
     "metadata": {},
     "output_type": "execute_result"
    }
   ],
   "source": [
    "# Renomeando colunas\n",
    "# o parâmetros columns recebe um dicionário\n",
    "# inplace diz pra renomear a coluna no próprio dataframe e não retornar um novo dataframe com a coluna renomeada\n",
    "df.rename(columns={'/Educação/Ens...de Série/Total 2013 (-)':'tx_distorcao'}, inplace=True)\n",
    "\n",
    "df.head()"
   ]
  },
  {
   "cell_type": "code",
   "execution_count": 14,
   "metadata": {},
   "outputs": [
    {
     "name": "stdout",
     "output_type": "stream",
     "text": [
      "<class 'pandas.core.frame.DataFrame'>\n",
      "RangeIndex: 495 entries, 0 to 494\n",
      "Data columns (total 5 columns):\n",
      "Município       495 non-null object\n",
      "ibge            495 non-null int64\n",
      "latitude        495 non-null float64\n",
      "longitude       495 non-null float64\n",
      "tx_distorcao    495 non-null object\n",
      "dtypes: float64(2), int64(1), object(2)\n",
      "memory usage: 19.5+ KB\n"
     ]
    }
   ],
   "source": [
    "df.info()"
   ]
  },
  {
   "cell_type": "code",
   "execution_count": 15,
   "metadata": {},
   "outputs": [
    {
     "data": {
      "text/html": [
       "<div>\n",
       "<style scoped>\n",
       "    .dataframe tbody tr th:only-of-type {\n",
       "        vertical-align: middle;\n",
       "    }\n",
       "\n",
       "    .dataframe tbody tr th {\n",
       "        vertical-align: top;\n",
       "    }\n",
       "\n",
       "    .dataframe thead th {\n",
       "        text-align: right;\n",
       "    }\n",
       "</style>\n",
       "<table border=\"1\" class=\"dataframe\">\n",
       "  <thead>\n",
       "    <tr style=\"text-align: right;\">\n",
       "      <th></th>\n",
       "      <th>Município</th>\n",
       "      <th>ibge</th>\n",
       "      <th>latitude</th>\n",
       "      <th>longitude</th>\n",
       "      <th>tx_distorcao</th>\n",
       "    </tr>\n",
       "  </thead>\n",
       "  <tbody>\n",
       "    <tr>\n",
       "      <td>0</td>\n",
       "      <td>Aceguá</td>\n",
       "      <td>4300034</td>\n",
       "      <td>-31.86076</td>\n",
       "      <td>-54.16706</td>\n",
       "      <td>25.7</td>\n",
       "    </tr>\n",
       "    <tr>\n",
       "      <td>1</td>\n",
       "      <td>Água Santa</td>\n",
       "      <td>4300059</td>\n",
       "      <td>-28.16720</td>\n",
       "      <td>-52.03100</td>\n",
       "      <td>14.7</td>\n",
       "    </tr>\n",
       "    <tr>\n",
       "      <td>2</td>\n",
       "      <td>Agudo</td>\n",
       "      <td>4300109</td>\n",
       "      <td>-29.64470</td>\n",
       "      <td>-53.25150</td>\n",
       "      <td>26.4</td>\n",
       "    </tr>\n",
       "    <tr>\n",
       "      <td>3</td>\n",
       "      <td>Ajuricaba</td>\n",
       "      <td>4300208</td>\n",
       "      <td>-28.23420</td>\n",
       "      <td>-53.77570</td>\n",
       "      <td>24.1</td>\n",
       "    </tr>\n",
       "    <tr>\n",
       "      <td>4</td>\n",
       "      <td>Alecrim</td>\n",
       "      <td>4300307</td>\n",
       "      <td>-27.65790</td>\n",
       "      <td>-54.76490</td>\n",
       "      <td>18.9</td>\n",
       "    </tr>\n",
       "  </tbody>\n",
       "</table>\n",
       "</div>"
      ],
      "text/plain": [
       "    Município     ibge  latitude  longitude tx_distorcao\n",
       "0      Aceguá  4300034 -31.86076  -54.16706         25.7\n",
       "1  Água Santa  4300059 -28.16720  -52.03100         14.7\n",
       "2       Agudo  4300109 -29.64470  -53.25150         26.4\n",
       "3   Ajuricaba  4300208 -28.23420  -53.77570         24.1\n",
       "4     Alecrim  4300307 -27.65790  -54.76490         18.9"
      ]
     },
     "execution_count": 15,
     "metadata": {},
     "output_type": "execute_result"
    }
   ],
   "source": [
    "# Converter a coluna tx_distorcao para float\n",
    "# Podemos informar no momento de carregar o arquivo informando que decimal=','\n",
    "# Mas como já importamos o arquivo:\n",
    "# Primeiro transformamos as vírgulas em pontos\n",
    "df['tx_distorcao'] = df['tx_distorcao'].str.replace(',','.')\n",
    "df.head()"
   ]
  },
  {
   "cell_type": "code",
   "execution_count": 16,
   "metadata": {},
   "outputs": [
    {
     "name": "stdout",
     "output_type": "stream",
     "text": [
      "<class 'pandas.core.frame.DataFrame'>\n",
      "RangeIndex: 495 entries, 0 to 494\n",
      "Data columns (total 5 columns):\n",
      "Município       495 non-null object\n",
      "ibge            495 non-null int64\n",
      "latitude        495 non-null float64\n",
      "longitude       495 non-null float64\n",
      "tx_distorcao    495 non-null float64\n",
      "dtypes: float64(3), int64(1), object(1)\n",
      "memory usage: 19.5+ KB\n"
     ]
    }
   ],
   "source": [
    "# fazendo a conversão\n",
    "df['tx_distorcao'] = df['tx_distorcao'].astype(float)\n",
    "df.info()"
   ]
  },
  {
   "cell_type": "code",
   "execution_count": 17,
   "metadata": {},
   "outputs": [
    {
     "data": {
      "text/html": [
       "<div>\n",
       "<style scoped>\n",
       "    .dataframe tbody tr th:only-of-type {\n",
       "        vertical-align: middle;\n",
       "    }\n",
       "\n",
       "    .dataframe tbody tr th {\n",
       "        vertical-align: top;\n",
       "    }\n",
       "\n",
       "    .dataframe thead th {\n",
       "        text-align: right;\n",
       "    }\n",
       "</style>\n",
       "<table border=\"1\" class=\"dataframe\">\n",
       "  <thead>\n",
       "    <tr style=\"text-align: right;\">\n",
       "      <th></th>\n",
       "      <th>Município</th>\n",
       "      <th>ibge</th>\n",
       "      <th>latitude</th>\n",
       "      <th>longitude</th>\n",
       "      <th>tx_distorcao</th>\n",
       "    </tr>\n",
       "  </thead>\n",
       "  <tbody>\n",
       "    <tr>\n",
       "      <td>490</td>\n",
       "      <td>Vista Alegre do Prata</td>\n",
       "      <td>4323606</td>\n",
       "      <td>-28.8052</td>\n",
       "      <td>-51.7946</td>\n",
       "      <td>2.6</td>\n",
       "    </tr>\n",
       "    <tr>\n",
       "      <td>375</td>\n",
       "      <td>Santo Antônio do Palma</td>\n",
       "      <td>4317558</td>\n",
       "      <td>-28.4956</td>\n",
       "      <td>-52.0267</td>\n",
       "      <td>4.3</td>\n",
       "    </tr>\n",
       "    <tr>\n",
       "      <td>28</td>\n",
       "      <td>Áurea</td>\n",
       "      <td>4301552</td>\n",
       "      <td>-27.6936</td>\n",
       "      <td>-52.0505</td>\n",
       "      <td>5.8</td>\n",
       "    </tr>\n",
       "    <tr>\n",
       "      <td>268</td>\n",
       "      <td>Nicolau Vergueiro</td>\n",
       "      <td>4312674</td>\n",
       "      <td>-28.5298</td>\n",
       "      <td>-52.4676</td>\n",
       "      <td>7.0</td>\n",
       "    </tr>\n",
       "    <tr>\n",
       "      <td>128</td>\n",
       "      <td>Derrubadas</td>\n",
       "      <td>4306320</td>\n",
       "      <td>-27.2642</td>\n",
       "      <td>-53.8645</td>\n",
       "      <td>7.4</td>\n",
       "    </tr>\n",
       "    <tr>\n",
       "      <td>119</td>\n",
       "      <td>Cotiporã</td>\n",
       "      <td>4305959</td>\n",
       "      <td>-28.9891</td>\n",
       "      <td>-51.6971</td>\n",
       "      <td>7.5</td>\n",
       "    </tr>\n",
       "    <tr>\n",
       "      <td>68</td>\n",
       "      <td>Campestre da Serra</td>\n",
       "      <td>4303673</td>\n",
       "      <td>-28.7926</td>\n",
       "      <td>-51.0941</td>\n",
       "      <td>7.6</td>\n",
       "    </tr>\n",
       "    <tr>\n",
       "      <td>476</td>\n",
       "      <td>Vanini</td>\n",
       "      <td>4322558</td>\n",
       "      <td>-28.4758</td>\n",
       "      <td>-51.8447</td>\n",
       "      <td>7.8</td>\n",
       "    </tr>\n",
       "    <tr>\n",
       "      <td>236</td>\n",
       "      <td>Linha Nova</td>\n",
       "      <td>4311643</td>\n",
       "      <td>-29.4679</td>\n",
       "      <td>-51.2003</td>\n",
       "      <td>8.0</td>\n",
       "    </tr>\n",
       "    <tr>\n",
       "      <td>392</td>\n",
       "      <td>São José do Inhacorá</td>\n",
       "      <td>4318499</td>\n",
       "      <td>-27.7251</td>\n",
       "      <td>-54.1275</td>\n",
       "      <td>8.0</td>\n",
       "    </tr>\n",
       "  </tbody>\n",
       "</table>\n",
       "</div>"
      ],
      "text/plain": [
       "                  Município     ibge  latitude  longitude  tx_distorcao\n",
       "490   Vista Alegre do Prata  4323606  -28.8052   -51.7946           2.6\n",
       "375  Santo Antônio do Palma  4317558  -28.4956   -52.0267           4.3\n",
       "28                    Áurea  4301552  -27.6936   -52.0505           5.8\n",
       "268       Nicolau Vergueiro  4312674  -28.5298   -52.4676           7.0\n",
       "128              Derrubadas  4306320  -27.2642   -53.8645           7.4\n",
       "119                Cotiporã  4305959  -28.9891   -51.6971           7.5\n",
       "68       Campestre da Serra  4303673  -28.7926   -51.0941           7.6\n",
       "476                  Vanini  4322558  -28.4758   -51.8447           7.8\n",
       "236              Linha Nova  4311643  -29.4679   -51.2003           8.0\n",
       "392    São José do Inhacorá  4318499  -27.7251   -54.1275           8.0"
      ]
     },
     "execution_count": 17,
     "metadata": {},
     "output_type": "execute_result"
    }
   ],
   "source": [
    "# 10 Municípios com menor taxa de distorção\n",
    "df.nsmallest(10, 'tx_distorcao')"
   ]
  },
  {
   "cell_type": "code",
   "execution_count": 18,
   "metadata": {},
   "outputs": [
    {
     "data": {
      "text/html": [
       "<div>\n",
       "<style scoped>\n",
       "    .dataframe tbody tr th:only-of-type {\n",
       "        vertical-align: middle;\n",
       "    }\n",
       "\n",
       "    .dataframe tbody tr th {\n",
       "        vertical-align: top;\n",
       "    }\n",
       "\n",
       "    .dataframe thead th {\n",
       "        text-align: right;\n",
       "    }\n",
       "</style>\n",
       "<table border=\"1\" class=\"dataframe\">\n",
       "  <thead>\n",
       "    <tr style=\"text-align: right;\">\n",
       "      <th></th>\n",
       "      <th>Município</th>\n",
       "      <th>ibge</th>\n",
       "      <th>latitude</th>\n",
       "      <th>longitude</th>\n",
       "      <th>tx_distorcao</th>\n",
       "    </tr>\n",
       "  </thead>\n",
       "  <tbody>\n",
       "    <tr>\n",
       "      <td>307</td>\n",
       "      <td>Pedras Altas</td>\n",
       "      <td>4314175</td>\n",
       "      <td>-31.7217</td>\n",
       "      <td>-53.5838</td>\n",
       "      <td>56.0</td>\n",
       "    </tr>\n",
       "    <tr>\n",
       "      <td>316</td>\n",
       "      <td>Pinheiro Machado</td>\n",
       "      <td>4314506</td>\n",
       "      <td>-31.5794</td>\n",
       "      <td>-53.3798</td>\n",
       "      <td>53.9</td>\n",
       "    </tr>\n",
       "    <tr>\n",
       "      <td>17</td>\n",
       "      <td>Arambaré</td>\n",
       "      <td>4300851</td>\n",
       "      <td>-30.9093</td>\n",
       "      <td>-51.5046</td>\n",
       "      <td>52.8</td>\n",
       "    </tr>\n",
       "    <tr>\n",
       "      <td>140</td>\n",
       "      <td>Eldorado do Sul</td>\n",
       "      <td>4306767</td>\n",
       "      <td>-30.0847</td>\n",
       "      <td>-51.6187</td>\n",
       "      <td>51.9</td>\n",
       "    </tr>\n",
       "    <tr>\n",
       "      <td>35</td>\n",
       "      <td>Barra do Quaraí</td>\n",
       "      <td>4301875</td>\n",
       "      <td>-30.2029</td>\n",
       "      <td>-57.5497</td>\n",
       "      <td>51.5</td>\n",
       "    </tr>\n",
       "    <tr>\n",
       "      <td>393</td>\n",
       "      <td>São José do Norte</td>\n",
       "      <td>4318507</td>\n",
       "      <td>-32.0151</td>\n",
       "      <td>-52.0331</td>\n",
       "      <td>49.4</td>\n",
       "    </tr>\n",
       "    <tr>\n",
       "      <td>413</td>\n",
       "      <td>São Valério do Sul</td>\n",
       "      <td>4319737</td>\n",
       "      <td>-27.7906</td>\n",
       "      <td>-53.9368</td>\n",
       "      <td>49.2</td>\n",
       "    </tr>\n",
       "    <tr>\n",
       "      <td>193</td>\n",
       "      <td>Hulha Negra</td>\n",
       "      <td>4309654</td>\n",
       "      <td>-31.4067</td>\n",
       "      <td>-53.8667</td>\n",
       "      <td>49.0</td>\n",
       "    </tr>\n",
       "    <tr>\n",
       "      <td>106</td>\n",
       "      <td>Chuí</td>\n",
       "      <td>4305439</td>\n",
       "      <td>-33.6866</td>\n",
       "      <td>-53.4594</td>\n",
       "      <td>48.6</td>\n",
       "    </tr>\n",
       "    <tr>\n",
       "      <td>233</td>\n",
       "      <td>Lavras do Sul</td>\n",
       "      <td>4311502</td>\n",
       "      <td>-30.8071</td>\n",
       "      <td>-53.8931</td>\n",
       "      <td>47.7</td>\n",
       "    </tr>\n",
       "  </tbody>\n",
       "</table>\n",
       "</div>"
      ],
      "text/plain": [
       "              Município     ibge  latitude  longitude  tx_distorcao\n",
       "307        Pedras Altas  4314175  -31.7217   -53.5838          56.0\n",
       "316    Pinheiro Machado  4314506  -31.5794   -53.3798          53.9\n",
       "17             Arambaré  4300851  -30.9093   -51.5046          52.8\n",
       "140     Eldorado do Sul  4306767  -30.0847   -51.6187          51.9\n",
       "35      Barra do Quaraí  4301875  -30.2029   -57.5497          51.5\n",
       "393   São José do Norte  4318507  -32.0151   -52.0331          49.4\n",
       "413  São Valério do Sul  4319737  -27.7906   -53.9368          49.2\n",
       "193         Hulha Negra  4309654  -31.4067   -53.8667          49.0\n",
       "106                Chuí  4305439  -33.6866   -53.4594          48.6\n",
       "233       Lavras do Sul  4311502  -30.8071   -53.8931          47.7"
      ]
     },
     "execution_count": 18,
     "metadata": {},
     "output_type": "execute_result"
    }
   ],
   "source": [
    "# 10 Municípios com a maior taxa de distorção\n",
    "df.nlargest(10, 'tx_distorcao')"
   ]
  },
  {
   "cell_type": "code",
   "execution_count": 19,
   "metadata": {},
   "outputs": [
    {
     "data": {
      "text/plain": [
       "<matplotlib.axes._subplots.AxesSubplot at 0x7ffbaeba9b50>"
      ]
     },
     "execution_count": 19,
     "metadata": {},
     "output_type": "execute_result"
    },
    {
     "data": {
      "image/png": "[encoded data removed]",
      "text/plain": [
       "<Figure size 432x288 with 1 Axes>"
      ]
     },
     "metadata": {
      "needs_background": "light"
     },
     "output_type": "display_data"
    }
   ],
   "source": [
    "# plotando o histograma da taxa de distorção\n",
    "df['tx_distorcao'].plot.hist(bins=100)"
   ]
  },
  {
   "cell_type": "code",
   "execution_count": 20,
   "metadata": {},
   "outputs": [
    {
     "data": {
      "text/plain": [
       "Município       17\n",
       "ibge            17\n",
       "latitude        17\n",
       "longitude       17\n",
       "tx_distorcao    17\n",
       "dtype: int64"
      ]
     },
     "execution_count": 20,
     "metadata": {},
     "output_type": "execute_result"
    }
   ],
   "source": [
    "# Quantidade de municípios com tx_distorcao menor ou igual a 10\n",
    "df[df['tx_distorcao'] <= 10 ].count()"
   ]
  },
  {
   "cell_type": "code",
   "execution_count": 21,
   "metadata": {},
   "outputs": [
    {
     "data": {
      "text/plain": [
       "Município       17\n",
       "ibge            17\n",
       "latitude        17\n",
       "longitude       17\n",
       "tx_distorcao    17\n",
       "dtype: int64"
      ]
     },
     "execution_count": 21,
     "metadata": {},
     "output_type": "execute_result"
    }
   ],
   "source": [
    "# Quantidade de municípios com tx_distorcao maior ou igual a 45\n",
    "df[df['tx_distorcao'] >= 45 ].count()"
   ]
  },
  {
   "cell_type": "code",
   "execution_count": 45,
   "metadata": {},
   "outputs": [
    {
     "data": {
      "text/html": [
       "<div style=\"width:100%;\"><div style=\"position:relative;width:100%;height:0;padding-bottom:60%;\"><iframe src=\"about:blank\" style=\"position:absolute;width:100%;height:100%;left:0;top:0;border:none !important;\" data-html=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 onload=\"this.contentDocument.open();this.contentDocument.write(atob(this.getAttribute('data-html')));this.contentDocument.close();\" allowfullscreen webkitallowfullscreen mozallowfullscreen></iframe></div></div>"
      ],
      "text/plain": [
       "<folium.folium.Map at 0x7ffbad7be050>"
      ]
     },
     "execution_count": 45,
     "metadata": {},
     "output_type": "execute_result"
    }
   ],
   "source": [
    "# Criamos um mapa, com base em uma coordenada central do local que queremos\n",
    "# Nesse caso peguei a latitudo e longitude mais menos do centro do RS\n",
    "rs = folium.Map(\n",
    "        location=[-29.428510, -53.020623], # Cordenadas do google maps\n",
    "        zoom_start=6\n",
    ")\n",
    "\n",
    "# Mostrando o mapa\n",
    "rs"
   ]
  },
  {
   "cell_type": "code",
   "execution_count": 46,
   "metadata": {},
   "outputs": [
    {
     "data": {
      "text/html": [
       "<div style=\"width:100%;\"><div style=\"position:relative;width:100%;height:0;padding-bottom:60%;\"><iframe src=\"about:blank\" style=\"position:absolute;width:100%;height:100%;left:0;top:0;border:none !important;\" data-html=PCFET0NUWVBFIGh0bWw+CjxoZWFkPiAgICAKICAgIDxtZXRhIGh0dHAtZXF1aXY9ImNvbnRlbnQtdHlwZSIgY29udGVudD0idGV4dC9odG1sOyBjaGFyc2V0PVVURi04IiAvPgogICAgCiAgICAgICAgPHNjcmlwdD4KICAgICAgICAgICAgTF9OT19UT1VDSCA9IGZhbHNlOwogICAgICAgICAgICBMX0RJU0FCTEVfM0QgPSBmYWxzZTsKICAgICAgICA8L3NjcmlwdD4KICAgIAogICAgPHNjcmlwdCBzcmM9Imh0dHBzOi8vY2RuLmpzZGVsaXZyLm5ldC9ucG0vbGVhZmxldEAxLjUuMS9kaXN0L2xlYWZsZXQuanMiPjwvc2NyaXB0PgogICAgPHNjcmlwdCBzcmM9Imh0dHBzOi8vY29kZS5qcXVlcnkuY29tL2pxdWVyeS0xLjEyLjQubWluLmpzIj48L3NjcmlwdD4KICAgIDxzY3JpcHQgc3JjPSJodHRwczovL21heGNkbi5ib290c3RyYXBjZG4uY29tL2Jvb3RzdHJhcC8zLjIuMC9qcy9ib290c3RyYXAubWluLmpzIj48L3NjcmlwdD4KICAgIDxzY3JpcHQgc3JjPSJodHRwczovL2NkbmpzLmNsb3VkZmxhcmUuY29tL2FqYXgvbGlicy9MZWFmbGV0LmF3ZXNvbWUtbWFya2Vycy8yLjAuMi9sZWFmbGV0LmF3ZXNvbWUtbWFya2Vycy5qcyI+PC9zY3JpcHQ+CiAgICA8bGluayByZWw9InN0eWxlc2hlZXQiIGhyZWY9Imh0dHBzOi8vY2RuLmpzZGVsaXZyLm5ldC9ucG0vbGVhZmxldEAxLjUuMS9kaXN0L2xlYWZsZXQuY3NzIi8+CiAgICA8bGluayByZWw9InN0eWxlc2hlZXQiIGhyZWY9Imh0dHBzOi8vbWF4Y2RuLmJvb3RzdHJhcGNkbi5jb20vYm9vdHN0cmFwLzMuMi4wL2Nzcy9ib290c3RyYXAubWluLmNzcyIvPgogICAgPGxpbmsgcmVsPSJzdHlsZXNoZWV0IiBocmVmPSJodHRwczovL21heGNkbi5ib290c3RyYXBjZG4uY29tL2Jvb3RzdHJhcC8zLjIuMC9jc3MvYm9vdHN0cmFwLXRoZW1lLm1pbi5jc3MiLz4KICAgIDxsaW5rIHJlbD0ic3R5bGVzaGVldCIgaHJlZj0iaHR0cHM6Ly9tYXhjZG4uYm9vdHN0cmFwY2RuLmNvbS9mb250LWF3ZXNvbWUvNC42LjMvY3NzL2ZvbnQtYXdlc29tZS5taW4uY3NzIi8+CiAgICA8bGluayByZWw9InN0eWxlc2hlZXQiIGhyZWY9Imh0dHBzOi8vY2RuanMuY2xvdWRmbGFyZS5jb20vYWpheC9saWJzL0xlYWZsZXQuYXdlc29tZS1tYXJrZXJzLzIuMC4yL2xlYWZsZXQuYXdlc29tZS1tYXJrZXJzLmNzcyIvPgogICAgPGxpbmsgcmVsPSJzdHlsZXNoZWV0IiBocmVmPSJodHRwczovL3Jhd2Nkbi5naXRoYWNrLmNvbS9weXRob24tdmlzdWFsaXphdGlvbi9mb2xpdW0vbWFzdGVyL2ZvbGl1bS90ZW1wbGF0ZXMvbGVhZmxldC5hd2Vzb21lLnJvdGF0ZS5jc3MiLz4KICAgIDxzdHlsZT5odG1sLCBib2R5IHt3aWR0aDogMTAwJTtoZWlnaHQ6IDEwMCU7bWFyZ2luOiAwO3BhZGRpbmc6IDA7fTwvc3R5bGU+CiAgICA8c3R5bGU+I21hcCB7cG9zaXRpb246YWJzb2x1dGU7dG9wOjA7Ym90dG9tOjA7cmlnaHQ6MDtsZWZ0OjA7fTwvc3R5bGU+CiAgICAKICAgICAgICAgICAgPG1ldGEgbmFtZT0idmlld3BvcnQiIGNvbnRlbnQ9IndpZHRoPWRldmljZS13aWR0aCwKICAgICAgICAgICAgICAgIGluaXRpYWwtc2NhbGU9MS4wLCBtYXhpbXVtLXNjYWxlPTEuMCwgdXNlci1zY2FsYWJsZT1ubyIgLz4KICAgICAgICAgICAgPHN0eWxlPgogICAgICAgICAgICAgICAgI21hcF9mOTMyNTZiOWYzYmI0YmQ4OWQyY2I3Y2RlYjc0ODVmMyB7CiAgICAgICAgICAgICAgICAgICAgcG9zaXRpb246IHJlbGF0aXZlOwogICAgICAgICAgICAgICAgICAgIHdpZHRoOiAxMDAuMCU7CiAgICAgICAgICAgICAgICAgICAgaGVpZ2h0OiAxMDAuMCU7CiAgICAgICAgICAgICAgICAgICAgbGVmdDogMC4wJTsKICAgICAgICAgICAgICAgICAgICB0b3A6IDAuMCU7CiAgICAgICAgICAgICAgICB9CiAgICAgICAgICAgIDwvc3R5bGU+CiAgICAgICAgCjwvaGVhZD4KPGJvZHk+ICAgIAogICAgCiAgICAgICAgICAgIDxkaXYgY2xhc3M9ImZvbGl1bS1tYXAiIGlkPSJtYXBfZjkzMjU2YjlmM2JiNGJkODlkMmNiN2NkZWI3NDg1ZjMiID48L2Rpdj4KICAgICAgICAKPC9ib2R5Pgo8c2NyaXB0PiAgICAKICAgIAogICAgICAgICAgICB2YXIgbWFwX2Y5MzI1NmI5ZjNiYjRiZDg5ZDJjYjdjZGViNzQ4NWYzID0gTC5tYXAoCiAgICAgICAgICAgICAgICAibWFwX2Y5MzI1NmI5ZjNiYjRiZDg5ZDJjYjdjZGViNzQ4NWYzIiwKICAgICAgICAgICAgICAgIHsKICAgICAgICAgICAgICAgICAgICBjZW50ZXI6IFstMjkuNDI4NTEsIC01My4wMjA2MjNdLAogICAgICAgICAgICAgICAgICAgIGNyczogTC5DUlMuRVBTRzM4NTcsCiAgICAgICAgICAgICAgICAgICAgem9vbTogNiwKICAgICAgICAgICAgICAgICAgICB6b29tQ29udHJvbDogdHJ1ZSwKICAgICAgICAgICAgICAgICAgICBwcmVmZXJDYW52YXM6IGZhbHNlLAogICAgICAgICAgICAgICAgfQogICAgICAgICAgICApOwoKICAgICAgICAgICAgCgogICAgICAgIAogICAgCiAgICAgICAgICAgIHZhciB0aWxlX2xheWVyX2E5ZjBmNGQ1YTU2YzQ1YjZiOTgyYWNlYjZlY2NlZDMzID0gTC50aWxlTGF5ZXIoCiAgICAgICAgICAgICAgICAiaHR0cHM6Ly97c30udGlsZS5vcGVuc3RyZWV0bWFwLm9yZy97en0ve3h9L3t5fS5wbmciLAogICAgICAgICAgICAgICAgeyJhdHRyaWJ1dGlvbiI6ICJEYXRhIGJ5IFx1MDAyNmNvcHk7IFx1MDAzY2EgaHJlZj1cImh0dHA6Ly9vcGVuc3RyZWV0bWFwLm9yZ1wiXHUwMDNlT3BlblN0cmVldE1hcFx1MDAzYy9hXHUwMDNlLCB1bmRlciBcdTAwM2NhIGhyZWY9XCJodHRwOi8vd3d3Lm9wZW5zdHJlZXRtYXAub3JnL2NvcHlyaWdodFwiXHUwMDNlT0RiTFx1MDAzYy9hXHUwMDNlLiIsICJkZXRlY3RSZXRpbmEiOiBmYWxzZSwgIm1heE5hdGl2ZVpvb20iOiAxOCwgIm1heFpvb20iOiAxOCwgIm1pblpvb20iOiAwLCAibm9XcmFwIjogZmFsc2UsICJvcGFjaXR5IjogMSwgInN1YmRvbWFpbnMiOiAiYWJjIiwgInRtcyI6IGZhbHNlfQogICAgICAgICAgICApLmFkZFRvKG1hcF9mOTMyNTZiOWYzYmI0YmQ4OWQyY2I3Y2RlYjc0ODVmMyk7CiAgICAgICAgCiAgICAKICAgICAgICAgICAgdmFyIG1hcmtlcl9iZjY0NDdlOTliNDA0ODhhYmMyZjEzMDYzNzZlYjY1NCA9IEwubWFya2VyKAogICAgICAgICAgICAgICAgWy0yNy42OTM2LCAtNTIuMDUwNV0sCiAgICAgICAgICAgICAgICB7fQogICAgICAgICAgICApLmFkZFRvKG1hcF9mOTMyNTZiOWYzYmI0YmQ4OWQyY2I3Y2RlYjc0ODVmMyk7CiAgICAgICAgCiAgICAKICAgICAgICAgICAgdmFyIGljb25fMzk4YzU4MGY0MjQyNDgyMDhjZDQ2MzZmNWExOGVkNWEgPSBMLkF3ZXNvbWVNYXJrZXJzLmljb24oCiAgICAgICAgICAgICAgICB7ImV4dHJhQ2xhc3NlcyI6ICJmYS1yb3RhdGUtMCIsICJpY29uIjogImluZm8tc2lnbiIsICJpY29uQ29sb3IiOiAid2hpdGUiLCAibWFya2VyQ29sb3IiOiAiZ3JlZW4iLCAicHJlZml4IjogImdseXBoaWNvbiJ9CiAgICAgICAgICAgICk7CiAgICAgICAgICAgIG1hcmtlcl9iZjY0NDdlOTliNDA0ODhhYmMyZjEzMDYzNzZlYjY1NC5zZXRJY29uKGljb25fMzk4YzU4MGY0MjQyNDgyMDhjZDQ2MzZmNWExOGVkNWEpOwogICAgICAgIAogICAgCiAgICAgICAgdmFyIHBvcHVwX2M1NjJiMzQ2YzQwMzQ0ZGJiNjRiMTY4M2QzMjIxZGE0ID0gTC5wb3B1cCh7Im1heFdpZHRoIjogIjEwMCUifSk7CgogICAgICAgIAogICAgICAgICAgICB2YXIgaHRtbF9mZDFmNGI2NjMzNDg0ZDA1OWVjZDIzMGZlNDZlMjE5MSA9ICQoYDxkaXYgaWQ9Imh0bWxfZmQxZjRiNjYzMzQ4NGQwNTllY2QyMzBmZTQ2ZTIxOTEiIHN0eWxlPSJ3aWR0aDogMTAwLjAlOyBoZWlnaHQ6IDEwMC4wJTsiPsOBdXJlYTwvZGl2PmApWzBdOwogICAgICAgICAgICBwb3B1cF9jNTYyYjM0NmM0MDM0NGRiYjY0YjE2ODNkMzIyMWRhNC5zZXRDb250ZW50KGh0bWxfZmQxZjRiNjYzMzQ4NGQwNTllY2QyMzBmZTQ2ZTIxOTEpOwogICAgICAgIAoKICAgICAgICBtYXJrZXJfYmY2NDQ3ZTk5YjQwNDg4YWJjMmYxMzA2Mzc2ZWI2NTQuYmluZFBvcHVwKHBvcHVwX2M1NjJiMzQ2YzQwMzQ0ZGJiNjRiMTY4M2QzMjIxZGE0KQogICAgICAgIDsKCiAgICAgICAgCiAgICAKICAgIAogICAgICAgICAgICB2YXIgbWFya2VyX2YzNjJiNGVmMGFiMTQ0NzlhMWNjNjM3OGM4MjY3ZmE1ID0gTC5tYXJrZXIoCiAgICAgICAgICAgICAgICBbLTI5LjM1NDM5OTk5OTk5LCAtNTEuNjY4N10sCiAgICAgICAgICAgICAgICB7fQogICAgICAgICAgICApLmFkZFRvKG1hcF9mOTMyNTZiOWYzYmI0YmQ4OWQyY2I3Y2RlYjc0ODVmMyk7CiAgICAgICAgCiAgICAKICAgICAgICAgICAgdmFyIGljb25fYTAzOTIyZWNhYzMyNDgyZDlhNWIzNzAwMTYxOWNlNjQgPSBMLkF3ZXNvbWVNYXJrZXJzLmljb24oCiAgICAgICAgICAgICAgICB7ImV4dHJhQ2xhc3NlcyI6ICJmYS1yb3RhdGUtMCIsICJpY29uIjogImluZm8tc2lnbiIsICJpY29uQ29sb3IiOiAid2hpdGUiLCAibWFya2VyQ29sb3IiOiAiZ3JlZW4iLCAicHJlZml4IjogImdseXBoaWNvbiJ9CiAgICAgICAgICAgICk7CiAgICAgICAgICAgIG1hcmtlcl9mMzYyYjRlZjBhYjE0NDc5YTFjYzYzNzhjODI2N2ZhNS5zZXRJY29uKGljb25fYTAzOTIyZWNhYzMyNDgyZDlhNWIzNzAwMTYxOWNlNjQpOwogICAgICAgIAogICAgCiAgICAgICAgdmFyIHBvcHVwXzVmZDcyNzdjMGQ2YjQ0YzlhZWNiNzE0ZjUzZGQ2ODBhID0gTC5wb3B1cCh7Im1heFdpZHRoIjogIjEwMCUifSk7CgogICAgICAgIAogICAgICAgICAgICB2YXIgaHRtbF8yZDczMjkwZjNkODc0MTU2YTY2OTg3MWRmZmUzYTYzOSA9ICQoYDxkaXYgaWQ9Imh0bWxfMmQ3MzI5MGYzZDg3NDE1NmE2Njk4NzFkZmZlM2E2MzkiIHN0eWxlPSJ3aWR0aDogMTAwLjAlOyBoZWlnaHQ6IDEwMC4wJTsiPkJvYSBWaXN0YSBkbyBTdWw8L2Rpdj5gKVswXTsKICAgICAgICAgICAgcG9wdXBfNWZkNzI3N2MwZDZiNDRjOWFlY2I3MTRmNTNkZDY4MGEuc2V0Q29udGVudChodG1sXzJkNzMyOTBmM2Q4NzQxNTZhNjY5ODcxZGZmZTNhNjM5KTsKICAgICAgICAKCiAgICAgICAgbWFya2VyX2YzNjJiNGVmMGFiMTQ0NzlhMWNjNjM3OGM4MjY3ZmE1LmJpbmRQb3B1cChwb3B1cF81ZmQ3Mjc3YzBkNmI0NGM5YWVjYjcxNGY1M2RkNjgwYSkKICAgICAgICA7CgogICAgICAgIAogICAgCiAgICAKICAgICAgICAgICAgdmFyIG1hcmtlcl84MThlOTg5ZGYwZDM0YjAwYTdlNGJkNmNlYzgxNDdlYiA9IEwubWFya2VyKAogICAgICAgICAgICAgICAgWy0yOC43OTI2LCAtNTEuMDk0MDk5OTk5OTg5OTldLAogICAgICAgICAgICAgICAge30KICAgICAgICAgICAgKS5hZGRUbyhtYXBfZjkzMjU2YjlmM2JiNGJkODlkMmNiN2NkZWI3NDg1ZjMpOwogICAgICAgIAogICAgCiAgICAgICAgICAgIHZhciBpY29uXzY4ODcwYmVjYmQ4YzRiNWU4NWU2ZTlmODIzMzdhODczID0gTC5Bd2Vzb21lTWFya2Vycy5pY29uKAogICAgICAgICAgICAgICAgeyJleHRyYUNsYXNzZXMiOiAiZmEtcm90YXRlLTAiLCAiaWNvbiI6ICJpbmZvLXNpZ24iLCAiaWNvbkNvbG9yIjogIndoaXRlIiwgIm1hcmtlckNvbG9yIjogImdyZWVuIiwgInByZWZpeCI6ICJnbHlwaGljb24ifQogICAgICAgICAgICApOwogICAgICAgICAgICBtYXJrZXJfODE4ZTk4OWRmMGQzNGIwMGE3ZTRiZDZjZWM4MTQ3ZWIuc2V0SWNvbihpY29uXzY4ODcwYmVjYmQ4YzRiNWU4NWU2ZTlmODIzMzdhODczKTsKICAgICAgICAKICAgIAogICAgICAgIHZhciBwb3B1cF84MGFhNTZkZWRiZmQ0YTllYWIzMWI5NWNiMWZhZDU4OCA9IEwucG9wdXAoeyJtYXhXaWR0aCI6ICIxMDAlIn0pOwoKICAgICAgICAKICAgICAgICAgICAgdmFyIGh0bWxfZDg4Y2RjZGYzN2E2NGU2NDlhOTdmY2Y2NjY4YzJjZmIgPSAkKGA8ZGl2IGlkPSJodG1sX2Q4OGNkY2RmMzdhNjRlNjQ5YTk3ZmNmNjY2OGMyY2ZiIiBzdHlsZT0id2lkdGg6IDEwMC4wJTsgaGVpZ2h0OiAxMDAuMCU7Ij5DYW1wZXN0cmUgZGEgU2VycmE8L2Rpdj5gKVswXTsKICAgICAgICAgICAgcG9wdXBfODBhYTU2ZGVkYmZkNGE5ZWFiMzFiOTVjYjFmYWQ1ODguc2V0Q29udGVudChodG1sX2Q4OGNkY2RmMzdhNjRlNjQ5YTk3ZmNmNjY2OGMyY2ZiKTsKICAgICAgICAKCiAgICAgICAgbWFya2VyXzgxOGU5ODlkZjBkMzRiMDBhN2U0YmQ2Y2VjODE0N2ViLmJpbmRQb3B1cChwb3B1cF84MGFhNTZkZWRiZmQ0YTllYWIzMWI5NWNiMWZhZDU4OCkKICAgICAgICA7CgogICAgICAgIAogICAgCiAgICAKICAgICAgICAgICAgdmFyIG1hcmtlcl81MWUyNjBlOWEzODc0NDRiYjk5YTA3Zjc0ZTczNzI2YyA9IEwubWFya2VyKAogICAgICAgICAgICAgICAgWy0yNy45ODg4LCAtNTQuODQxN10sCiAgICAgICAgICAgICAgICB7fQogICAgICAgICAgICApLmFkZFRvKG1hcF9mOTMyNTZiOWYzYmI0YmQ4OWQyY2I3Y2RlYjc0ODVmMyk7CiAgICAgICAgCiAgICAKICAgICAgICAgICAgdmFyIGljb25fY2RjNDE4MWIxNzU0NDYwYmE3N2VlNWY1OTBmZGZkYmQgPSBMLkF3ZXNvbWVNYXJrZXJzLmljb24oCiAgICAgICAgICAgICAgICB7ImV4dHJhQ2xhc3NlcyI6ICJmYS1yb3RhdGUtMCIsICJpY29uIjogImluZm8tc2lnbiIsICJpY29uQ29sb3IiOiAid2hpdGUiLCAibWFya2VyQ29sb3IiOiAiZ3JlZW4iLCAicHJlZml4IjogImdseXBoaWNvbiJ9CiAgICAgICAgICAgICk7CiAgICAgICAgICAgIG1hcmtlcl81MWUyNjBlOWEzODc0NDRiYjk5YTA3Zjc0ZTczNzI2Yy5zZXRJY29uKGljb25fY2RjNDE4MWIxNzU0NDYwYmE3N2VlNWY1OTBmZGZkYmQpOwogICAgICAgIAogICAgCiAgICAgICAgdmFyIHBvcHVwXzdlOTgwNzYwYWZiMzQyMWI5MzNiMzcwZWY5MGY3NTg1ID0gTC5wb3B1cCh7Im1heFdpZHRoIjogIjEwMCUifSk7CgogICAgICAgIAogICAgICAgICAgICB2YXIgaHRtbF84YTA3MzIzMDI2OGY0N2Y0OGZjYTIwNDE0YTNlMDhiNyA9ICQoYDxkaXYgaWQ9Imh0bWxfOGEwNzMyMzAyNjhmNDdmNDhmY2EyMDQxNGEzZTA4YjciIHN0eWxlPSJ3aWR0aDogMTAwLjAlOyBoZWlnaHQ6IDEwMC4wJTsiPkNhbXBpbmEgZGFzIE1pc3PDtWVzPC9kaXY+YClbMF07CiAgICAgICAgICAgIHBvcHVwXzdlOTgwNzYwYWZiMzQyMWI5MzNiMzcwZWY5MGY3NTg1LnNldENvbnRlbnQoaHRtbF84YTA3MzIzMDI2OGY0N2Y0OGZjYTIwNDE0YTNlMDhiNyk7CiAgICAgICAgCgogICAgICAgIG1hcmtlcl81MWUyNjBlOWEzODc0NDRiYjk5YTA3Zjc0ZTczNzI2Yy5iaW5kUG9wdXAocG9wdXBfN2U5ODA3NjBhZmIzNDIxYjkzM2IzNzBlZjkwZjc1ODUpCiAgICAgICAgOwoKICAgICAgICAKICAgIAogICAgCiAgICAgICAgICAgIHZhciBtYXJrZXJfNzU1NDBkZTJiMWRhNDVmNzk1MDI2ODU2OGQ3ZmQ5NTggPSBMLm1hcmtlcigKICAgICAgICAgICAgICAgIFstMjguOTg5MSwgLTUxLjY5NzA5OTk5OTk4OTk5NV0sCiAgICAgICAgICAgICAgICB7fQogICAgICAgICAgICApLmFkZFRvKG1hcF9mOTMyNTZiOWYzYmI0YmQ4OWQyY2I3Y2RlYjc0ODVmMyk7CiAgICAgICAgCiAgICAKICAgICAgICAgICAgdmFyIGljb25fZGZhMDg3YWNiOTVlNDlkMTllYTZmNWQ1YTUxMTIwZWIgPSBMLkF3ZXNvbWVNYXJrZXJzLmljb24oCiAgICAgICAgICAgICAgICB7ImV4dHJhQ2xhc3NlcyI6ICJmYS1yb3RhdGUtMCIsICJpY29uIjogImluZm8tc2lnbiIsICJpY29uQ29sb3IiOiAid2hpdGUiLCAibWFya2VyQ29sb3IiOiAiZ3JlZW4iLCAicHJlZml4IjogImdseXBoaWNvbiJ9CiAgICAgICAgICAgICk7CiAgICAgICAgICAgIG1hcmtlcl83NTU0MGRlMmIxZGE0NWY3OTUwMjY4NTY4ZDdmZDk1OC5zZXRJY29uKGljb25fZGZhMDg3YWNiOTVlNDlkMTllYTZmNWQ1YTUxMTIwZWIpOwogICAgICAgIAogICAgCiAgICAgICAgdmFyIHBvcHVwX2Y5NTAyMTJkNjEyYTQ5MDc4ZWZjODM4MzIxNjFlMjZlID0gTC5wb3B1cCh7Im1heFdpZHRoIjogIjEwMCUifSk7CgogICAgICAgIAogICAgICAgICAgICB2YXIgaHRtbF8yYzZiYzVkMmU3Y2Q0YWZlOTRhNTUyODhlM2NmMjBkOCA9ICQoYDxkaXYgaWQ9Imh0bWxfMmM2YmM1ZDJlN2NkNGFmZTk0YTU1Mjg4ZTNjZjIwZDgiIHN0eWxlPSJ3aWR0aDogMTAwLjAlOyBoZWlnaHQ6IDEwMC4wJTsiPkNvdGlwb3LDozwvZGl2PmApWzBdOwogICAgICAgICAgICBwb3B1cF9mOTUwMjEyZDYxMmE0OTA3OGVmYzgzODMyMTYxZTI2ZS5zZXRDb250ZW50KGh0bWxfMmM2YmM1ZDJlN2NkNGFmZTk0YTU1Mjg4ZTNjZjIwZDgpOwogICAgICAgIAoKICAgICAgICBtYXJrZXJfNzU1NDBkZTJiMWRhNDVmNzk1MDI2ODU2OGQ3ZmQ5NTguYmluZFBvcHVwKHBvcHVwX2Y5NTAyMTJkNjEyYTQ5MDc4ZWZjODM4MzIxNjFlMjZlKQogICAgICAgIDsKCiAgICAgICAgCiAgICAKICAgIAogICAgICAgICAgICB2YXIgbWFya2VyX2E3MTY1MTU5MmM3ZDQzZWFiNGY1MzY2MTlmYjZhYTlmID0gTC5tYXJrZXIoCiAgICAgICAgICAgICAgICBbLTI3LjI2NDE5OTk5OTk5LCAtNTMuODY0NV0sCiAgICAgICAgICAgICAgICB7fQogICAgICAgICAgICApLmFkZFRvKG1hcF9mOTMyNTZiOWYzYmI0YmQ4OWQyY2I3Y2RlYjc0ODVmMyk7CiAgICAgICAgCiAgICAKICAgICAgICAgICAgdmFyIGljb25fNTZiOGZhYzE3ZjMwNDJhNTg4M2EzM2FhMGExYmNhNGYgPSBMLkF3ZXNvbWVNYXJrZXJzLmljb24oCiAgICAgICAgICAgICAgICB7ImV4dHJhQ2xhc3NlcyI6ICJmYS1yb3RhdGUtMCIsICJpY29uIjogImluZm8tc2lnbiIsICJpY29uQ29sb3IiOiAid2hpdGUiLCAibWFya2VyQ29sb3IiOiAiZ3JlZW4iLCAicHJlZml4IjogImdseXBoaWNvbiJ9CiAgICAgICAgICAgICk7CiAgICAgICAgICAgIG1hcmtlcl9hNzE2NTE1OTJjN2Q0M2VhYjRmNTM2NjE5ZmI2YWE5Zi5zZXRJY29uKGljb25fNTZiOGZhYzE3ZjMwNDJhNTg4M2EzM2FhMGExYmNhNGYpOwogICAgICAgIAogICAgCiAgICAgICAgdmFyIHBvcHVwX2RmMmFjMDdlNGU3ZjRmMDY5YzhiNjIyZmM4ODk5ZWU0ID0gTC5wb3B1cCh7Im1heFdpZHRoIjogIjEwMCUifSk7CgogICAgICAgIAogICAgICAgICAgICB2YXIgaHRtbF81ODE0ZDc2NTRmMzM0ZjNjOTU4MWY5MTA3MTJjMWEwNSA9ICQoYDxkaXYgaWQ9Imh0bWxfNTgxNGQ3NjU0ZjMzNGYzYzk1ODFmOTEwNzEyYzFhMDUiIHN0eWxlPSJ3aWR0aDogMTAwLjAlOyBoZWlnaHQ6IDEwMC4wJTsiPkRlcnJ1YmFkYXM8L2Rpdj5gKVswXTsKICAgICAgICAgICAgcG9wdXBfZGYyYWMwN2U0ZTdmNGYwNjljOGI2MjJmYzg4OTllZTQuc2V0Q29udGVudChodG1sXzU4MTRkNzY1NGYzMzRmM2M5NTgxZjkxMDcxMmMxYTA1KTsKICAgICAgICAKCiAgICAgICAgbWFya2VyX2E3MTY1MTU5MmM3ZDQzZWFiNGY1MzY2MTlmYjZhYTlmLmJpbmRQb3B1cChwb3B1cF9kZjJhYzA3ZTRlN2Y0ZjA2OWM4YjYyMmZjODg5OWVlNCkKICAgICAgICA7CgogICAgICAgIAogICAgCiAgICAKICAgICAgICAgICAgdmFyIG1hcmtlcl80M2NjYmVjN2M0NzM0ZWJmYTRmODcyYzY0ODAwNmQ4MyA9IEwubWFya2VyKAogICAgICAgICAgICAgICAgWy0yOC45ODMsIC01MS44Mzk1OTk5OTk5ODk5OV0sCiAgICAgICAgICAgICAgICB7fQogICAgICAgICAgICApLmFkZFRvKG1hcF9mOTMyNTZiOWYzYmI0YmQ4OWQyY2I3Y2RlYjc0ODVmMyk7CiAgICAgICAgCiAgICAKICAgICAgICAgICAgdmFyIGljb25fZjVlYTMyYzg1YjU3NDdmZjhlZjhmMGUwMTk2MTA4ZmMgPSBMLkF3ZXNvbWVNYXJrZXJzLmljb24oCiAgICAgICAgICAgICAgICB7ImV4dHJhQ2xhc3NlcyI6ICJmYS1yb3RhdGUtMCIsICJpY29uIjogImluZm8tc2lnbiIsICJpY29uQ29sb3IiOiAid2hpdGUiLCAibWFya2VyQ29sb3IiOiAiZ3JlZW4iLCAicHJlZml4IjogImdseXBoaWNvbiJ9CiAgICAgICAgICAgICk7CiAgICAgICAgICAgIG1hcmtlcl80M2NjYmVjN2M0NzM0ZWJmYTRmODcyYzY0ODAwNmQ4My5zZXRJY29uKGljb25fZjVlYTMyYzg1YjU3NDdmZjhlZjhmMGUwMTk2MTA4ZmMpOwogICAgICAgIAogICAgCiAgICAgICAgdmFyIHBvcHVwXzJlNzU4NWUyOWFiMjRkOWI5OWZiZjlkNGQwYzIzODBmID0gTC5wb3B1cCh7Im1heFdpZHRoIjogIjEwMCUifSk7CgogICAgICAgIAogICAgICAgICAgICB2YXIgaHRtbF9jNWU2OWJiOGYyMmE0NjE0OGQzYmQyMDZiNWQ3NGMzZiA9ICQoYDxkaXYgaWQ9Imh0bWxfYzVlNjliYjhmMjJhNDYxNDhkM2JkMjA2YjVkNzRjM2YiIHN0eWxlPSJ3aWR0aDogMTAwLjAlOyBoZWlnaHQ6IDEwMC4wJTsiPkRvaXMgTGFqZWFkb3M8L2Rpdj5gKVswXTsKICAgICAgICAgICAgcG9wdXBfMmU3NTg1ZTI5YWIyNGQ5Yjk5ZmJmOWQ0ZDBjMjM4MGYuc2V0Q29udGVudChodG1sX2M1ZTY5YmI4ZjIyYTQ2MTQ4ZDNiZDIwNmI1ZDc0YzNmKTsKICAgICAgICAKCiAgICAgICAgbWFya2VyXzQzY2NiZWM3YzQ3MzRlYmZhNGY4NzJjNjQ4MDA2ZDgzLmJpbmRQb3B1cChwb3B1cF8yZTc1ODVlMjlhYjI0ZDliOTlmYmY5ZDRkMGMyMzgwZikKICAgICAgICA7CgogICAgICAgIAogICAgCiAgICAKICAgICAgICAgICAgdmFyIG1hcmtlcl9lNjEwMjA3ZjRlYWQ0YTA1Yjk2YmE2ZGQ2ZjAzMjk3MyA9IEwubWFya2VyKAogICAgICAgICAgICAgICAgWy0yOS40Njc5LCAtNTEuMjAwMjk5OTk5OTg5OTk0XSwKICAgICAgICAgICAgICAgIHt9CiAgICAgICAgICAgICkuYWRkVG8obWFwX2Y5MzI1NmI5ZjNiYjRiZDg5ZDJjYjdjZGViNzQ4NWYzKTsKICAgICAgICAKICAgIAogICAgICAgICAgICB2YXIgaWNvbl80MThhN2U1ZmJjYWQ0NWZmOGZjNmMxZjRiMTNmYWM0MCA9IEwuQXdlc29tZU1hcmtlcnMuaWNvbigKICAgICAgICAgICAgICAgIHsiZXh0cmFDbGFzc2VzIjogImZhLXJvdGF0ZS0wIiwgImljb24iOiAiaW5mby1zaWduIiwgImljb25Db2xvciI6ICJ3aGl0ZSIsICJtYXJrZXJDb2xvciI6ICJncmVlbiIsICJwcmVmaXgiOiAiZ2x5cGhpY29uIn0KICAgICAgICAgICAgKTsKICAgICAgICAgICAgbWFya2VyX2U2MTAyMDdmNGVhZDRhMDViOTZiYTZkZDZmMDMyOTczLnNldEljb24oaWNvbl80MThhN2U1ZmJjYWQ0NWZmOGZjNmMxZjRiMTNmYWM0MCk7CiAgICAgICAgCiAgICAKICAgICAgICB2YXIgcG9wdXBfYjU4NzMwNDQ3NWQ0NDJmOTlhZTE0NzYwYWUyZmM1NTMgPSBMLnBvcHVwKHsibWF4V2lkdGgiOiAiMTAwJSJ9KTsKCiAgICAgICAgCiAgICAgICAgICAgIHZhciBodG1sXzdjMDViZGZlZDk0MjRkOGZhMjEzZmY1MGMwMDAxMTU5ID0gJChgPGRpdiBpZD0iaHRtbF83YzA1YmRmZWQ5NDI0ZDhmYTIxM2ZmNTBjMDAwMTE1OSIgc3R5bGU9IndpZHRoOiAxMDAuMCU7IGhlaWdodDogMTAwLjAlOyI+TGluaGEgTm92YTwvZGl2PmApWzBdOwogICAgICAgICAgICBwb3B1cF9iNTg3MzA0NDc1ZDQ0MmY5OWFlMTQ3NjBhZTJmYzU1My5zZXRDb250ZW50KGh0bWxfN2MwNWJkZmVkOTQyNGQ4ZmEyMTNmZjUwYzAwMDExNTkpOwogICAgICAgIAoKICAgICAgICBtYXJrZXJfZTYxMDIwN2Y0ZWFkNGEwNWI5NmJhNmRkNmYwMzI5NzMuYmluZFBvcHVwKHBvcHVwX2I1ODczMDQ0NzVkNDQyZjk5YWUxNDc2MGFlMmZjNTUzKQogICAgICAgIDsKCiAgICAgICAgCiAgICAKICAgIAogICAgICAgICAgICB2YXIgbWFya2VyX2I2MGUxNTg2MGFiZDQ4YmZhYTFlZGJjMDlmNDI1Nzc1ID0gTC5tYXJrZXIoCiAgICAgICAgICAgICAgICBbLTI4LjUyOTgsIC01Mi40Njc1OTk5OTk5ODk5OV0sCiAgICAgICAgICAgICAgICB7fQogICAgICAgICAgICApLmFkZFRvKG1hcF9mOTMyNTZiOWYzYmI0YmQ4OWQyY2I3Y2RlYjc0ODVmMyk7CiAgICAgICAgCiAgICAKICAgICAgICAgICAgdmFyIGljb25fMjdjOGFmMzYxODE1NDRlZDg3ZDdjNTllZjE0YTMxOGYgPSBMLkF3ZXNvbWVNYXJrZXJzLmljb24oCiAgICAgICAgICAgICAgICB7ImV4dHJhQ2xhc3NlcyI6ICJmYS1yb3RhdGUtMCIsICJpY29uIjogImluZm8tc2lnbiIsICJpY29uQ29sb3IiOiAid2hpdGUiLCAibWFya2VyQ29sb3IiOiAiZ3JlZW4iLCAicHJlZml4IjogImdseXBoaWNvbiJ9CiAgICAgICAgICAgICk7CiAgICAgICAgICAgIG1hcmtlcl9iNjBlMTU4NjBhYmQ0OGJmYWExZWRiYzA5ZjQyNTc3NS5zZXRJY29uKGljb25fMjdjOGFmMzYxODE1NDRlZDg3ZDdjNTllZjE0YTMxOGYpOwogICAgICAgIAogICAgCiAgICAgICAgdmFyIHBvcHVwX2ZmOWYwNWYwZmM1ZjQ4ZWNiOTRlMGFjZGZjM2Y5ODNiID0gTC5wb3B1cCh7Im1heFdpZHRoIjogIjEwMCUifSk7CgogICAgICAgIAogICAgICAgICAgICB2YXIgaHRtbF9jNmJhNTczODA4NWI0ZTJjYjA2YzM3ODc5MzE1ZTRjZiA9ICQoYDxkaXYgaWQ9Imh0bWxfYzZiYTU3MzgwODViNGUyY2IwNmMzNzg3OTMxNWU0Y2YiIHN0eWxlPSJ3aWR0aDogMTAwLjAlOyBoZWlnaHQ6IDEwMC4wJTsiPk5pY29sYXUgVmVyZ3VlaXJvPC9kaXY+YClbMF07CiAgICAgICAgICAgIHBvcHVwX2ZmOWYwNWYwZmM1ZjQ4ZWNiOTRlMGFjZGZjM2Y5ODNiLnNldENvbnRlbnQoaHRtbF9jNmJhNTczODA4NWI0ZTJjYjA2YzM3ODc5MzE1ZTRjZik7CiAgICAgICAgCgogICAgICAgIG1hcmtlcl9iNjBlMTU4NjBhYmQ0OGJmYWExZWRiYzA5ZjQyNTc3NS5iaW5kUG9wdXAocG9wdXBfZmY5ZjA1ZjBmYzVmNDhlY2I5NGUwYWNkZmMzZjk4M2IpCiAgICAgICAgOwoKICAgICAgICAKICAgIAogICAgCiAgICAgICAgICAgIHZhciBtYXJrZXJfYjIyN2QxNWIyZjRhNGYwZWE4ODI5NmI3OGU2MTY1OWUgPSBMLm1hcmtlcigKICAgICAgICAgICAgICAgIFstMjkuMjE4MiwgLTUyLjAzMTldLAogICAgICAgICAgICAgICAge30KICAgICAgICAgICAgKS5hZGRUbyhtYXBfZjkzMjU2YjlmM2JiNGJkODlkMmNiN2NkZWI3NDg1ZjMpOwogICAgICAgIAogICAgCiAgICAgICAgICAgIHZhciBpY29uXzdkNDJlZDc1MTg0ZTQzMjNiODIyYWQ5YTFkNmZkMWFjID0gTC5Bd2Vzb21lTWFya2Vycy5pY29uKAogICAgICAgICAgICAgICAgeyJleHRyYUNsYXNzZXMiOiAiZmEtcm90YXRlLTAiLCAiaWNvbiI6ICJpbmZvLXNpZ24iLCAiaWNvbkNvbG9yIjogIndoaXRlIiwgIm1hcmtlckNvbG9yIjogImdyZWVuIiwgInByZWZpeCI6ICJnbHlwaGljb24ifQogICAgICAgICAgICApOwogICAgICAgICAgICBtYXJrZXJfYjIyN2QxNWIyZjRhNGYwZWE4ODI5NmI3OGU2MTY1OWUuc2V0SWNvbihpY29uXzdkNDJlZDc1MTg0ZTQzMjNiODIyYWQ5YTFkNmZkMWFjKTsKICAgICAgICAKICAgIAogICAgICAgIHZhciBwb3B1cF83ZmE3MWYyZTBhYTc0YjVjYmY1YTM0NThjODBiMGYyMSA9IEwucG9wdXAoeyJtYXhXaWR0aCI6ICIxMDAlIn0pOwoKICAgICAgICAKICAgICAgICAgICAgdmFyIGh0bWxfYTI3ZGZlNmJmYjA4NDcxMDljZTkxNjAxYjAxZTEyZjEgPSAkKGA8ZGl2IGlkPSJodG1sX2EyN2RmZTZiZmIwODQ3MTA5Y2U5MTYwMWIwMWUxMmYxIiBzdHlsZT0id2lkdGg6IDEwMC4wJTsgaGVpZ2h0OiAxMDAuMCU7Ij5Ob3ZhIEJyw6lzY2lhPC9kaXY+YClbMF07CiAgICAgICAgICAgIHBvcHVwXzdmYTcxZjJlMGFhNzRiNWNiZjVhMzQ1OGM4MGIwZjIxLnNldENvbnRlbnQoaHRtbF9hMjdkZmU2YmZiMDg0NzEwOWNlOTE2MDFiMDFlMTJmMSk7CiAgICAgICAgCgogICAgICAgIG1hcmtlcl9iMjI3ZDE1YjJmNGE0ZjBlYTg4Mjk2Yjc4ZTYxNjU5ZS5iaW5kUG9wdXAocG9wdXBfN2ZhNzFmMmUwYWE3NGI1Y2JmNWEzNDU4YzgwYjBmMjEpCiAgICAgICAgOwoKICAgICAgICAKICAgIAogICAgCiAgICAgICAgICAgIHZhciBtYXJrZXJfMDk5MDZiNjM4YjQ4NGIzNWJiZDUxMzZlYTQxNDdlN2EgPSBMLm1hcmtlcigKICAgICAgICAgICAgICAgIFstMjkuMTczOCwgLTUyLjIxMzZdLAogICAgICAgICAgICAgICAge30KICAgICAgICAgICAgKS5hZGRUbyhtYXBfZjkzMjU2YjlmM2JiNGJkODlkMmNiN2NkZWI3NDg1ZjMpOwogICAgICAgIAogICAgCiAgICAgICAgICAgIHZhciBpY29uXzE3NmFlYTI4MDM5YjQ2ZGViOGU5Nzg3MGM2NDMyMTc5ID0gTC5Bd2Vzb21lTWFya2Vycy5pY29uKAogICAgICAgICAgICAgICAgeyJleHRyYUNsYXNzZXMiOiAiZmEtcm90YXRlLTAiLCAiaWNvbiI6ICJpbmZvLXNpZ24iLCAiaWNvbkNvbG9yIjogIndoaXRlIiwgIm1hcmtlckNvbG9yIjogImdyZWVuIiwgInByZWZpeCI6ICJnbHlwaGljb24ifQogICAgICAgICAgICApOwogICAgICAgICAgICBtYXJrZXJfMDk5MDZiNjM4YjQ4NGIzNWJiZDUxMzZlYTQxNDdlN2Euc2V0SWNvbihpY29uXzE3NmFlYTI4MDM5YjQ2ZGViOGU5Nzg3MGM2NDMyMTc5KTsKICAgICAgICAKICAgIAogICAgICAgIHZhciBwb3B1cF9jZmQzM2ZiNjZjZTc0NjAzODc0NmQ4MTEwMzgyNDg2MiA9IEwucG9wdXAoeyJtYXhXaWR0aCI6ICIxMDAlIn0pOwoKICAgICAgICAKICAgICAgICAgICAgdmFyIGh0bWxfNzA1YWFkNDdkYTYyNDExZGE5OGRiYTk4NDA3ZGJiY2YgPSAkKGA8ZGl2IGlkPSJodG1sXzcwNWFhZDQ3ZGE2MjQxMWRhOThkYmE5ODQwN2RiYmNmIiBzdHlsZT0id2lkdGg6IDEwMC4wJTsgaGVpZ2h0OiAxMDAuMCU7Ij5Qb3VzbyBOb3ZvPC9kaXY+YClbMF07CiAgICAgICAgICAgIHBvcHVwX2NmZDMzZmI2NmNlNzQ2MDM4NzQ2ZDgxMTAzODI0ODYyLnNldENvbnRlbnQoaHRtbF83MDVhYWQ0N2RhNjI0MTFkYTk4ZGJhOTg0MDdkYmJjZik7CiAgICAgICAgCgogICAgICAgIG1hcmtlcl8wOTkwNmI2MzhiNDg0YjM1YmJkNTEzNmVhNDE0N2U3YS5iaW5kUG9wdXAocG9wdXBfY2ZkMzNmYjY2Y2U3NDYwMzg3NDZkODExMDM4MjQ4NjIpCiAgICAgICAgOwoKICAgICAgICAKICAgIAogICAgCiAgICAgICAgICAgIHZhciBtYXJrZXJfMTg4ZTg4ODZmYzFmNDRiMmE2MGVhYjg0MjNiYmY5YzIgPSBMLm1hcmtlcigKICAgICAgICAgICAgICAgIFstMjguMTIzMywgLTU0LjgzNzI5OTk5OTk4OTk5NV0sCiAgICAgICAgICAgICAgICB7fQogICAgICAgICAgICApLmFkZFRvKG1hcF9mOTMyNTZiOWYzYmI0YmQ4OWQyY2I3Y2RlYjc0ODVmMyk7CiAgICAgICAgCiAgICAKICAgICAgICAgICAgdmFyIGljb25fMTYzNDU3OWE0ZGZhNDAzM2EzNzBjNjIyYzRiNzE1OGYgPSBMLkF3ZXNvbWVNYXJrZXJzLmljb24oCiAgICAgICAgICAgICAgICB7ImV4dHJhQ2xhc3NlcyI6ICJmYS1yb3RhdGUtMCIsICJpY29uIjogImluZm8tc2lnbiIsICJpY29uQ29sb3IiOiAid2hpdGUiLCAibWFya2VyQ29sb3IiOiAiZ3JlZW4iLCAicHJlZml4IjogImdseXBoaWNvbiJ9CiAgICAgICAgICAgICk7CiAgICAgICAgICAgIG1hcmtlcl8xODhlODg4NmZjMWY0NGIyYTYwZWFiODQyM2JiZjljMi5zZXRJY29uKGljb25fMTYzNDU3OWE0ZGZhNDAzM2EzNzBjNjIyYzRiNzE1OGYpOwogICAgICAgIAogICAgCiAgICAgICAgdmFyIHBvcHVwXzlmZmE1Y2JhMWU3NDQ2MjFhOGUwMjU3MTk3NjE4YWJlID0gTC5wb3B1cCh7Im1heFdpZHRoIjogIjEwMCUifSk7CgogICAgICAgIAogICAgICAgICAgICB2YXIgaHRtbF9kZmQ4ZTUxYzUyYzU0NTA5OGEzYWYwNjAwMDRiMDQwNiA9ICQoYDxkaXYgaWQ9Imh0bWxfZGZkOGU1MWM1MmM1NDUwOThhM2FmMDYwMDA0YjA0MDYiIHN0eWxlPSJ3aWR0aDogMTAwLjAlOyBoZWlnaHQ6IDEwMC4wJTsiPlNhbHZhZG9yIGRhcyBNaXNzw7VlczwvZGl2PmApWzBdOwogICAgICAgICAgICBwb3B1cF85ZmZhNWNiYTFlNzQ0NjIxYThlMDI1NzE5NzYxOGFiZS5zZXRDb250ZW50KGh0bWxfZGZkOGU1MWM1MmM1NDUwOThhM2FmMDYwMDA0YjA0MDYpOwogICAgICAgIAoKICAgICAgICBtYXJrZXJfMTg4ZTg4ODZmYzFmNDRiMmE2MGVhYjg0MjNiYmY5YzIuYmluZFBvcHVwKHBvcHVwXzlmZmE1Y2JhMWU3NDQ2MjFhOGUwMjU3MTk3NjE4YWJlKQogICAgICAgIDsKCiAgICAgICAgCiAgICAKICAgIAogICAgICAgICAgICB2YXIgbWFya2VyX2JhNDAwODNkYjUzYjQ1ZGVhYzE0MWQ4MGU1MDgzM2M4ID0gTC5tYXJrZXIoCiAgICAgICAgICAgICAgICBbLTI4LjQ5NTYsIC01Mi4wMjY2OTk5OTk5ODk5OTRdLAogICAgICAgICAgICAgICAge30KICAgICAgICAgICAgKS5hZGRUbyhtYXBfZjkzMjU2YjlmM2JiNGJkODlkMmNiN2NkZWI3NDg1ZjMpOwogICAgICAgIAogICAgCiAgICAgICAgICAgIHZhciBpY29uX2MzOWVhYWRhYWZlMTRlMGViMDlhMzlmZGUzNzI4NjJlID0gTC5Bd2Vzb21lTWFya2Vycy5pY29uKAogICAgICAgICAgICAgICAgeyJleHRyYUNsYXNzZXMiOiAiZmEtcm90YXRlLTAiLCAiaWNvbiI6ICJpbmZvLXNpZ24iLCAiaWNvbkNvbG9yIjogIndoaXRlIiwgIm1hcmtlckNvbG9yIjogImdyZWVuIiwgInByZWZpeCI6ICJnbHlwaGljb24ifQogICAgICAgICAgICApOwogICAgICAgICAgICBtYXJrZXJfYmE0MDA4M2RiNTNiNDVkZWFjMTQxZDgwZTUwODMzYzguc2V0SWNvbihpY29uX2MzOWVhYWRhYWZlMTRlMGViMDlhMzlmZGUzNzI4NjJlKTsKICAgICAgICAKICAgIAogICAgICAgIHZhciBwb3B1cF80NWU1Yzc1OGUzOTA0M2U2OWUxOGUyOGMwYzQ1NGU1NyA9IEwucG9wdXAoeyJtYXhXaWR0aCI6ICIxMDAlIn0pOwoKICAgICAgICAKICAgICAgICAgICAgdmFyIGh0bWxfNDMwOTUzMmZhYTU3NGM3OTg5YzQ3NzBhM2RkN2M5YjAgPSAkKGA8ZGl2IGlkPSJodG1sXzQzMDk1MzJmYWE1NzRjNzk4OWM0NzcwYTNkZDdjOWIwIiBzdHlsZT0id2lkdGg6IDEwMC4wJTsgaGVpZ2h0OiAxMDAuMCU7Ij5TYW50byBBbnTDtG5pbyBkbyBQYWxtYTwvZGl2PmApWzBdOwogICAgICAgICAgICBwb3B1cF80NWU1Yzc1OGUzOTA0M2U2OWUxOGUyOGMwYzQ1NGU1Ny5zZXRDb250ZW50KGh0bWxfNDMwOTUzMmZhYTU3NGM3OTg5YzQ3NzBhM2RkN2M5YjApOwogICAgICAgIAoKICAgICAgICBtYXJrZXJfYmE0MDA4M2RiNTNiNDVkZWFjMTQxZDgwZTUwODMzYzguYmluZFBvcHVwKHBvcHVwXzQ1ZTVjNzU4ZTM5MDQzZTY5ZTE4ZTI4YzBjNDU0ZTU3KQogICAgICAgIDsKCiAgICAgICAgCiAgICAKICAgIAogICAgICAgICAgICB2YXIgbWFya2VyX2RkMDEyNDk1NjNlYTQ5NGJiNDgyMmViMjlhN2U5MTg1ID0gTC5tYXJrZXIoCiAgICAgICAgICAgICAgICBbLTI3LjkwNzM5OTk5OTk5LCAtNTEuNjQzM10sCiAgICAgICAgICAgICAgICB7fQogICAgICAgICAgICApLmFkZFRvKG1hcF9mOTMyNTZiOWYzYmI0YmQ4OWQyY2I3Y2RlYjc0ODVmMyk7CiAgICAgICAgCiAgICAKICAgICAgICAgICAgdmFyIGljb25fYmY3YWUxMWZjZjMxNGJjYTg4MjhjYjA5NzNhZjJjZGEgPSBMLkF3ZXNvbWVNYXJrZXJzLmljb24oCiAgICAgICAgICAgICAgICB7ImV4dHJhQ2xhc3NlcyI6ICJmYS1yb3RhdGUtMCIsICJpY29uIjogImluZm8tc2lnbiIsICJpY29uQ29sb3IiOiAid2hpdGUiLCAibWFya2VyQ29sb3IiOiAiZ3JlZW4iLCAicHJlZml4IjogImdseXBoaWNvbiJ9CiAgICAgICAgICAgICk7CiAgICAgICAgICAgIG1hcmtlcl9kZDAxMjQ5NTYzZWE0OTRiYjQ4MjJlYjI5YTdlOTE4NS5zZXRJY29uKGljb25fYmY3YWUxMWZjZjMxNGJjYTg4MjhjYjA5NzNhZjJjZGEpOwogICAgICAgIAogICAgCiAgICAgICAgdmFyIHBvcHVwXzZkMDVmN2NjYjcwZDQyZjM5MzUzYTQ3MjhmMzdjZmMzID0gTC5wb3B1cCh7Im1heFdpZHRoIjogIjEwMCUifSk7CgogICAgICAgIAogICAgICAgICAgICB2YXIgaHRtbF8xODNmMzFhZWE2NTc0NzViODRhYWZhYzdjZWZkZGEwYSA9ICQoYDxkaXYgaWQ9Imh0bWxfMTgzZjMxYWVhNjU3NDc1Yjg0YWFmYWM3Y2VmZGRhMGEiIHN0eWxlPSJ3aWR0aDogMTAwLjAlOyBoZWlnaHQ6IDEwMC4wJTsiPlNhbnRvIEV4cGVkaXRvIGRvIFN1bDwvZGl2PmApWzBdOwogICAgICAgICAgICBwb3B1cF82ZDA1ZjdjY2I3MGQ0MmYzOTM1M2E0NzI4ZjM3Y2ZjMy5zZXRDb250ZW50KGh0bWxfMTgzZjMxYWVhNjU3NDc1Yjg0YWFmYWM3Y2VmZGRhMGEpOwogICAgICAgIAoKICAgICAgICBtYXJrZXJfZGQwMTI0OTU2M2VhNDk0YmI0ODIyZWIyOWE3ZTkxODUuYmluZFBvcHVwKHBvcHVwXzZkMDVmN2NjYjcwZDQyZjM5MzUzYTQ3MjhmMzdjZmMzKQogICAgICAgIDsKCiAgICAgICAgCiAgICAKICAgIAogICAgICAgICAgICB2YXIgbWFya2VyX2M5MzY2NDM1NTY4NDQ1NDliMDdlYmU0NmIzNmMyM2IyID0gTC5tYXJrZXIoCiAgICAgICAgICAgICAgICBbLTI3LjcyNTEsIC01NC4xMjc0OTk5OTk5ODk5OV0sCiAgICAgICAgICAgICAgICB7fQogICAgICAgICAgICApLmFkZFRvKG1hcF9mOTMyNTZiOWYzYmI0YmQ4OWQyY2I3Y2RlYjc0ODVmMyk7CiAgICAgICAgCiAgICAKICAgICAgICAgICAgdmFyIGljb25fNDNiNjEwN2MxYzliNDRjM2IzMGQwY2RkYTUxNGFkMWEgPSBMLkF3ZXNvbWVNYXJrZXJzLmljb24oCiAgICAgICAgICAgICAgICB7ImV4dHJhQ2xhc3NlcyI6ICJmYS1yb3RhdGUtMCIsICJpY29uIjogImluZm8tc2lnbiIsICJpY29uQ29sb3IiOiAid2hpdGUiLCAibWFya2VyQ29sb3IiOiAiZ3JlZW4iLCAicHJlZml4IjogImdseXBoaWNvbiJ9CiAgICAgICAgICAgICk7CiAgICAgICAgICAgIG1hcmtlcl9jOTM2NjQzNTU2ODQ0NTQ5YjA3ZWJlNDZiMzZjMjNiMi5zZXRJY29uKGljb25fNDNiNjEwN2MxYzliNDRjM2IzMGQwY2RkYTUxNGFkMWEpOwogICAgICAgIAogICAgCiAgICAgICAgdmFyIHBvcHVwXzJkZGY1OWU3NDk5NjRlNTc4MTFjZDlkYTU1MzM3YjVhID0gTC5wb3B1cCh7Im1heFdpZHRoIjogIjEwMCUifSk7CgogICAgICAgIAogICAgICAgICAgICB2YXIgaHRtbF8zNzc5ZDIzN2E5NGY0ZjlhOWU2NzgxNzRmN2YyNTcyZCA9ICQoYDxkaXYgaWQ9Imh0bWxfMzc3OWQyMzdhOTRmNGY5YTllNjc4MTc0ZjdmMjU3MmQiIHN0eWxlPSJ3aWR0aDogMTAwLjAlOyBoZWlnaHQ6IDEwMC4wJTsiPlPDo28gSm9zw6kgZG8gSW5oYWNvcsOhPC9kaXY+YClbMF07CiAgICAgICAgICAgIHBvcHVwXzJkZGY1OWU3NDk5NjRlNTc4MTFjZDlkYTU1MzM3YjVhLnNldENvbnRlbnQoaHRtbF8zNzc5ZDIzN2E5NGY0ZjlhOWU2NzgxNzRmN2YyNTcyZCk7CiAgICAgICAgCgogICAgICAgIG1hcmtlcl9jOTM2NjQzNTU2ODQ0NTQ5YjA3ZWJlNDZiMzZjMjNiMi5iaW5kUG9wdXAocG9wdXBfMmRkZjU5ZTc0OTk2NGU1NzgxMWNkOWRhNTUzMzdiNWEpCiAgICAgICAgOwoKICAgICAgICAKICAgIAogICAgCiAgICAgICAgICAgIHZhciBtYXJrZXJfMTE2NTIzZDA0ZjEwNGE1M2I5YzgxZDFkNDVjOWY1N2IgPSBMLm1hcmtlcigKICAgICAgICAgICAgICAgIFstMjguNDc1OCwgLTUxLjg0NDddLAogICAgICAgICAgICAgICAge30KICAgICAgICAgICAgKS5hZGRUbyhtYXBfZjkzMjU2YjlmM2JiNGJkODlkMmNiN2NkZWI3NDg1ZjMpOwogICAgICAgIAogICAgCiAgICAgICAgICAgIHZhciBpY29uXzFkYjM0NzYzNjQ5ODRmZDA4ZmYxOTBjNTVlYmIxNjg5ID0gTC5Bd2Vzb21lTWFya2Vycy5pY29uKAogICAgICAgICAgICAgICAgeyJleHRyYUNsYXNzZXMiOiAiZmEtcm90YXRlLTAiLCAiaWNvbiI6ICJpbmZvLXNpZ24iLCAiaWNvbkNvbG9yIjogIndoaXRlIiwgIm1hcmtlckNvbG9yIjogImdyZWVuIiwgInByZWZpeCI6ICJnbHlwaGljb24ifQogICAgICAgICAgICApOwogICAgICAgICAgICBtYXJrZXJfMTE2NTIzZDA0ZjEwNGE1M2I5YzgxZDFkNDVjOWY1N2Iuc2V0SWNvbihpY29uXzFkYjM0NzYzNjQ5ODRmZDA4ZmYxOTBjNTVlYmIxNjg5KTsKICAgICAgICAKICAgIAogICAgICAgIHZhciBwb3B1cF8yMDU1YzE1MjJlNDg0YmNhYjcwNTAzNTg5YzYzYjFiMyA9IEwucG9wdXAoeyJtYXhXaWR0aCI6ICIxMDAlIn0pOwoKICAgICAgICAKICAgICAgICAgICAgdmFyIGh0bWxfMmUyYjI2ZjE0N2ZlNDRiZGE0YmYyYzIzMjYxZjRiOWIgPSAkKGA8ZGl2IGlkPSJodG1sXzJlMmIyNmYxNDdmZTQ0YmRhNGJmMmMyMzI2MWY0YjliIiBzdHlsZT0id2lkdGg6IDEwMC4wJTsgaGVpZ2h0OiAxMDAuMCU7Ij5WYW5pbmk8L2Rpdj5gKVswXTsKICAgICAgICAgICAgcG9wdXBfMjA1NWMxNTIyZTQ4NGJjYWI3MDUwMzU4OWM2M2IxYjMuc2V0Q29udGVudChodG1sXzJlMmIyNmYxNDdmZTQ0YmRhNGJmMmMyMzI2MWY0YjliKTsKICAgICAgICAKCiAgICAgICAgbWFya2VyXzExNjUyM2QwNGYxMDRhNTNiOWM4MWQxZDQ1YzlmNTdiLmJpbmRQb3B1cChwb3B1cF8yMDU1YzE1MjJlNDg0YmNhYjcwNTAzNTg5YzYzYjFiMykKICAgICAgICA7CgogICAgICAgIAogICAgCiAgICAKICAgICAgICAgICAgdmFyIG1hcmtlcl84NTkzMjkxYjk0Mzk0NzgzYTQwMTZjYzczZTkzYzlmOCA9IEwubWFya2VyKAogICAgICAgICAgICAgICAgWy0yOC44MDUxOTk5OTk5OTAwMDIsIC01MS43OTQ2XSwKICAgICAgICAgICAgICAgIHt9CiAgICAgICAgICAgICkuYWRkVG8obWFwX2Y5MzI1NmI5ZjNiYjRiZDg5ZDJjYjdjZGViNzQ4NWYzKTsKICAgICAgICAKICAgIAogICAgICAgICAgICB2YXIgaWNvbl9iZWYwYTRmNzY0ZmY0OTk0YjY1ZGIwNzE5NTBiYTIyZSA9IEwuQXdlc29tZU1hcmtlcnMuaWNvbigKICAgICAgICAgICAgICAgIHsiZXh0cmFDbGFzc2VzIjogImZhLXJvdGF0ZS0wIiwgImljb24iOiAiaW5mby1zaWduIiwgImljb25Db2xvciI6ICJ3aGl0ZSIsICJtYXJrZXJDb2xvciI6ICJncmVlbiIsICJwcmVmaXgiOiAiZ2x5cGhpY29uIn0KICAgICAgICAgICAgKTsKICAgICAgICAgICAgbWFya2VyXzg1OTMyOTFiOTQzOTQ3ODNhNDAxNmNjNzNlOTNjOWY4LnNldEljb24oaWNvbl9iZWYwYTRmNzY0ZmY0OTk0YjY1ZGIwNzE5NTBiYTIyZSk7CiAgICAgICAgCiAgICAKICAgICAgICB2YXIgcG9wdXBfNjgxOTYxZGI2ZGVmNGRmOGIzMzg5OWM3NTFjZjA1ZTkgPSBMLnBvcHVwKHsibWF4V2lkdGgiOiAiMTAwJSJ9KTsKCiAgICAgICAgCiAgICAgICAgICAgIHZhciBodG1sX2FkZThlNjRjZmZlMTRhMzk4NjU3MjEzODBkY2Y0YzRkID0gJChgPGRpdiBpZD0iaHRtbF9hZGU4ZTY0Y2ZmZTE0YTM5ODY1NzIxMzgwZGNmNGM0ZCIgc3R5bGU9IndpZHRoOiAxMDAuMCU7IGhlaWdodDogMTAwLjAlOyI+VmlzdGEgQWxlZ3JlIGRvIFByYXRhPC9kaXY+YClbMF07CiAgICAgICAgICAgIHBvcHVwXzY4MTk2MWRiNmRlZjRkZjhiMzM4OTljNzUxY2YwNWU5LnNldENvbnRlbnQoaHRtbF9hZGU4ZTY0Y2ZmZTE0YTM5ODY1NzIxMzgwZGNmNGM0ZCk7CiAgICAgICAgCgogICAgICAgIG1hcmtlcl84NTkzMjkxYjk0Mzk0NzgzYTQwMTZjYzczZTkzYzlmOC5iaW5kUG9wdXAocG9wdXBfNjgxOTYxZGI2ZGVmNGRmOGIzMzg5OWM3NTFjZjA1ZTkpCiAgICAgICAgOwoKICAgICAgICAKICAgIAo8L3NjcmlwdD4= onload=\"this.contentDocument.open();this.contentDocument.write(atob(this.getAttribute('data-html')));this.contentDocument.close();\" allowfullscreen webkitallowfullscreen mozallowfullscreen></iframe></div></div>"
      ],
      "text/plain": [
       "<folium.folium.Map at 0x7ffbad7be050>"
      ]
     },
     "execution_count": 46,
     "metadata": {},
     "output_type": "execute_result"
    }
   ],
   "source": [
    "# Percorremos o dataframe com base nas melhores escolas (com tx_distorcao <= 10)\n",
    "# e desenhar um marcador para cada escola\n",
    "# usando for e iterrows\n",
    "\n",
    "for indice, municipio in df[df['tx_distorcao'] <= 10].iterrows():\n",
    "    folium.Marker(\n",
    "        location=[municipio['latitude'], municipio['longitude']],\n",
    "        popup=municipio['Município'],\n",
    "        icon=folium.map.Icon(color='green')\n",
    "    ).add_to(rs)\n",
    "    \n",
    "# Mostra o mapa\n",
    "rs"
   ]
  },
  {
   "cell_type": "code",
   "execution_count": 47,
   "metadata": {},
   "outputs": [
    {
     "data": {
      "text/html": [
       "<div style=\"width:100%;\"><div style=\"position:relative;width:100%;height:0;padding-bottom:60%;\"><iframe src=\"about:blank\" style=\"position:absolute;width:100%;height:100%;left:0;top:0;border:none !important;\" data-html=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 onload=\"this.contentDocument.open();this.contentDocument.write(atob(this.getAttribute('data-html')));this.contentDocument.close();\" allowfullscreen webkitallowfullscreen mozallowfullscreen></iframe></div></div>"
      ],
      "text/plain": [
       "<folium.folium.Map at 0x7ffbad7be050>"
      ]
     },
     "execution_count": 47,
     "metadata": {},
     "output_type": "execute_result"
    }
   ],
   "source": [
    "# Percorremos o dataframe com base nas melhores escolas (com tx_distorcao >= 45)\n",
    "# e desenhar um marcador para cada escola\n",
    "# usando for e iterrows\n",
    "\n",
    "for indice, municipio in df[df['tx_distorcao'] >= 45].iterrows():\n",
    "    folium.Marker(\n",
    "        location=[municipio['latitude'], municipio['longitude']],\n",
    "        popup=municipio['Município'],\n",
    "        icon=folium.map.Icon(color='red')\n",
    "    ).add_to(rs)\n",
    "    \n",
    "# Mostra o mapa\n",
    "rs"
   ]
  },
  {
   "cell_type": "code",
   "execution_count": 48,
   "metadata": {},
   "outputs": [
    {
     "data": {
      "text/plain": [
       "325    32.3\n",
       "Name: tx_distorcao, dtype: float64"
      ]
     },
     "execution_count": 48,
     "metadata": {},
     "output_type": "execute_result"
    }
   ],
   "source": [
    "# Qual a taxa de distorção da capital\n",
    "df[df['Município'] == 'Porto Alegre']['tx_distorcao']"
   ]
  },
  {
   "cell_type": "code",
   "execution_count": null,
   "metadata": {},
   "outputs": [],
   "source": []
  }
 ],
 "metadata": {
  "kernelspec": {
   "display_name": "Python 3",
   "language": "python",
   "name": "python3"
  },
  "language_info": {
   "codemirror_mode": {
    "name": "ipython",
    "version": 3
   },
   "file_extension": ".py",
   "mimetype": "text/x-python",
   "name": "python",
   "nbconvert_exporter": "python",
   "pygments_lexer": "ipython3",
   "version": "3.7.4"
  }
 },
 "nbformat": 4,
 "nbformat_minor": 2
}
