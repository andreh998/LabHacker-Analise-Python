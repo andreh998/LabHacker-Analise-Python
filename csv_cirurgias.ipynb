{
 "cells": [
  {
   "cell_type": "markdown",
   "metadata": {},
   "source": [
    "## Análise Exploratória"
   ]
  },
  {
   "cell_type": "code",
   "execution_count": 4,
   "metadata": {},
   "outputs": [],
   "source": [
    "# Importamos as bibliotecas\n",
    "import pandas as pd\n",
    "\n",
    "# Informar ao matplotlib para imprimir os gráficos inline\n",
    "%matplotlib inline"
   ]
  },
  {
   "cell_type": "code",
   "execution_count": 5,
   "metadata": {},
   "outputs": [],
   "source": [
    "# Importamos apenas algumas colunas do arquivo\n",
    "# colunas: 3 - Hospital, 6 - Município, 7 - Complexidade, 8 - Carater Atendimento\n",
    "# 12 - Sub Grupo Procedimento, 14 - Procedimento\n",
    "df = pd.read_csv('sih-janeiro-2017-cirurgias-eletiva-e-emergencia.csv', sep=';', \n",
    "                 encoding='cp1252', usecols=[3,6,7,8,12,14])\n",
    "\n",
    "# Troco o nome das colunas\n",
    "df.columns = ['Hospital', 'Municipio', 'Complexidade', 'Carater', 'Sub Grupo Procedimento', 'Procedimento']"
   ]
  },
  {
   "cell_type": "code",
   "execution_count": 6,
   "metadata": {},
   "outputs": [
    {
     "data": {
      "text/html": [
       "<div>\n",
       "<style scoped>\n",
       "    .dataframe tbody tr th:only-of-type {\n",
       "        vertical-align: middle;\n",
       "    }\n",
       "\n",
       "    .dataframe tbody tr th {\n",
       "        vertical-align: top;\n",
       "    }\n",
       "\n",
       "    .dataframe thead th {\n",
       "        text-align: right;\n",
       "    }\n",
       "</style>\n",
       "<table border=\"1\" class=\"dataframe\">\n",
       "  <thead>\n",
       "    <tr style=\"text-align: right;\">\n",
       "      <th></th>\n",
       "      <th>Hospital</th>\n",
       "      <th>Municipio</th>\n",
       "      <th>Complexidade</th>\n",
       "      <th>Carater</th>\n",
       "      <th>Sub Grupo Procedimento</th>\n",
       "      <th>Procedimento</th>\n",
       "    </tr>\n",
       "  </thead>\n",
       "  <tbody>\n",
       "    <tr>\n",
       "      <td>0</td>\n",
       "      <td>6876617 HOSPITAL DA CRIANCA DE BRASILIA JOSE A...</td>\n",
       "      <td>BRASILIA, DF, BR</td>\n",
       "      <td>Média complexidade</td>\n",
       "      <td>Eletivo</td>\n",
       "      <td>Sub Grupo: 15 - Outras cirurgias</td>\n",
       "      <td>TRATAMENTO C/ CIRURGIAS MULTIPLAS</td>\n",
       "    </tr>\n",
       "    <tr>\n",
       "      <td>1</td>\n",
       "      <td>0010456 HBDF HOSPITAL DE BASE DO DISTRITO FEDERAL</td>\n",
       "      <td>BRASILIA, DF, BR</td>\n",
       "      <td>Média complexidade</td>\n",
       "      <td>Urgência</td>\n",
       "      <td>Sub Grupo: 03 - Cirurgia do sistema nervoso ce...</td>\n",
       "      <td>DERIVACAO VENTRICULAR EXTERNAR-SUBGALEAL EXTERNA</td>\n",
       "    </tr>\n",
       "    <tr>\n",
       "      <td>2</td>\n",
       "      <td>0010456 HBDF HOSPITAL DE BASE DO DISTRITO FEDERAL</td>\n",
       "      <td>BRASILIA, DF, BR</td>\n",
       "      <td>Média complexidade</td>\n",
       "      <td>Urgência</td>\n",
       "      <td>Sub Grupo: 15 - Outras cirurgias</td>\n",
       "      <td>TRATAMENTO C/ CIRURGIAS MULTIPLAS</td>\n",
       "    </tr>\n",
       "  </tbody>\n",
       "</table>\n",
       "</div>"
      ],
      "text/plain": [
       "                                            Hospital          Municipio  \\\n",
       "0  6876617 HOSPITAL DA CRIANCA DE BRASILIA JOSE A...  BRASILIA, DF, BR    \n",
       "1  0010456 HBDF HOSPITAL DE BASE DO DISTRITO FEDERAL  BRASILIA, DF, BR    \n",
       "2  0010456 HBDF HOSPITAL DE BASE DO DISTRITO FEDERAL  BRASILIA, DF, BR    \n",
       "\n",
       "         Complexidade   Carater  \\\n",
       "0  Média complexidade   Eletivo   \n",
       "1  Média complexidade  Urgência   \n",
       "2  Média complexidade  Urgência   \n",
       "\n",
       "                              Sub Grupo Procedimento  \\\n",
       "0                   Sub Grupo: 15 - Outras cirurgias   \n",
       "1  Sub Grupo: 03 - Cirurgia do sistema nervoso ce...   \n",
       "2                   Sub Grupo: 15 - Outras cirurgias   \n",
       "\n",
       "                                       Procedimento  \n",
       "0                 TRATAMENTO C/ CIRURGIAS MULTIPLAS  \n",
       "1  DERIVACAO VENTRICULAR EXTERNAR-SUBGALEAL EXTERNA  \n",
       "2                 TRATAMENTO C/ CIRURGIAS MULTIPLAS  "
      ]
     },
     "execution_count": 6,
     "metadata": {},
     "output_type": "execute_result"
    }
   ],
   "source": [
    "# Exibir as 3 primeiras linhas - por padrão o head mostra as 5 primeiras linhas\n",
    "df.head(3)"
   ]
  },
  {
   "cell_type": "code",
   "execution_count": 7,
   "metadata": {},
   "outputs": [
    {
     "data": {
      "text/plain": [
       "Hospital                  4862\n",
       "Municipio                 4862\n",
       "Complexidade              4862\n",
       "Carater                   4862\n",
       "Sub Grupo Procedimento    4862\n",
       "Procedimento              4862\n",
       "dtype: int64"
      ]
     },
     "execution_count": 7,
     "metadata": {},
     "output_type": "execute_result"
    }
   ],
   "source": [
    "# Verifico quantas linhas/Procedimentos existem\n",
    "df.count()"
   ]
  },
  {
   "cell_type": "code",
   "execution_count": 8,
   "metadata": {},
   "outputs": [
    {
     "data": {
      "text/html": [
       "<div>\n",
       "<style scoped>\n",
       "    .dataframe tbody tr th:only-of-type {\n",
       "        vertical-align: middle;\n",
       "    }\n",
       "\n",
       "    .dataframe tbody tr th {\n",
       "        vertical-align: top;\n",
       "    }\n",
       "\n",
       "    .dataframe thead th {\n",
       "        text-align: right;\n",
       "    }\n",
       "</style>\n",
       "<table border=\"1\" class=\"dataframe\">\n",
       "  <thead>\n",
       "    <tr style=\"text-align: right;\">\n",
       "      <th></th>\n",
       "      <th>Hospital</th>\n",
       "      <th>Municipio</th>\n",
       "      <th>Complexidade</th>\n",
       "      <th>Carater</th>\n",
       "      <th>Sub Grupo Procedimento</th>\n",
       "      <th>Procedimento</th>\n",
       "    </tr>\n",
       "  </thead>\n",
       "  <tbody>\n",
       "    <tr>\n",
       "      <td>count</td>\n",
       "      <td>4862</td>\n",
       "      <td>4862</td>\n",
       "      <td>4862</td>\n",
       "      <td>4862</td>\n",
       "      <td>4862</td>\n",
       "      <td>4862</td>\n",
       "    </tr>\n",
       "    <tr>\n",
       "      <td>unique</td>\n",
       "      <td>16</td>\n",
       "      <td>11</td>\n",
       "      <td>2</td>\n",
       "      <td>4</td>\n",
       "      <td>16</td>\n",
       "      <td>495</td>\n",
       "    </tr>\n",
       "    <tr>\n",
       "      <td>top</td>\n",
       "      <td>0010456 HBDF HOSPITAL DE BASE DO DISTRITO FEDERAL</td>\n",
       "      <td>BRASILIA, DF, BR</td>\n",
       "      <td>Média complexidade</td>\n",
       "      <td>Urgência</td>\n",
       "      <td>Sub Grupo: 11 - Cirurgia obstétrica</td>\n",
       "      <td>PARTO CESARIANO</td>\n",
       "    </tr>\n",
       "    <tr>\n",
       "      <td>freq</td>\n",
       "      <td>735</td>\n",
       "      <td>1923</td>\n",
       "      <td>4353</td>\n",
       "      <td>3794</td>\n",
       "      <td>1539</td>\n",
       "      <td>1060</td>\n",
       "    </tr>\n",
       "  </tbody>\n",
       "</table>\n",
       "</div>"
      ],
      "text/plain": [
       "                                                 Hospital          Municipio  \\\n",
       "count                                                4862               4862   \n",
       "unique                                                 16                 11   \n",
       "top     0010456 HBDF HOSPITAL DE BASE DO DISTRITO FEDERAL  BRASILIA, DF, BR    \n",
       "freq                                                  735               1923   \n",
       "\n",
       "              Complexidade   Carater               Sub Grupo Procedimento  \\\n",
       "count                 4862      4862                                 4862   \n",
       "unique                   2         4                                   16   \n",
       "top     Média complexidade  Urgência  Sub Grupo: 11 - Cirurgia obstétrica   \n",
       "freq                  4353      3794                                 1539   \n",
       "\n",
       "           Procedimento  \n",
       "count              4862  \n",
       "unique              495  \n",
       "top     PARTO CESARIANO  \n",
       "freq               1060  "
      ]
     },
     "execution_count": 8,
     "metadata": {},
     "output_type": "execute_result"
    }
   ],
   "source": [
    "# Descrevo as colunas numéricas\n",
    "df.describe()"
   ]
  },
  {
   "cell_type": "code",
   "execution_count": 9,
   "metadata": {},
   "outputs": [
    {
     "data": {
      "text/plain": [
       "array(['6876617 HOSPITAL DA CRIANCA DE BRASILIA JOSE ALENCAR HCB',\n",
       "       '0010456 HBDF HOSPITAL DE BASE DO DISTRITO FEDERAL',\n",
       "       '0010499 HRT HOSPITAL REGIONAL DE TAGUATINGA', '0010545 HRBZ',\n",
       "       '0010480 HOSPITAL REGIONAL DE CEILANDIA',\n",
       "       '3276678 INSTITUTO DE CARDIOLOGIA DO DISTRITO FEDERAL',\n",
       "       '0010472 HRG', '0010510 HOSPITAL UNIVERSITARIO DE BRASILIA',\n",
       "       '0010529 HRPL',\n",
       "       '0010537 HOSPITAL MATERNO INFANTIL DE BRASILIA HMIB',\n",
       "       '3055450 CBV CENTRO BRASILEIRO DA VISAO',\n",
       "       '2672197 HRSAM HOSPITAL REGIONAL DE SAMAMBAIA', '0010502 HRS',\n",
       "       '5717515 HRSM', '2645157 HRPA', '0010464 HRAN'], dtype=object)"
      ]
     },
     "execution_count": 9,
     "metadata": {},
     "output_type": "execute_result"
    }
   ],
   "source": [
    "# Listar os hospitais presentes nos dados\n",
    "# Unique traz os valores únicos\n",
    "df['Hospital'].unique()"
   ]
  },
  {
   "cell_type": "code",
   "execution_count": 10,
   "metadata": {},
   "outputs": [
    {
     "data": {
      "text/plain": [
       "0010456 HBDF HOSPITAL DE BASE DO DISTRITO FEDERAL           735\n",
       "0010472 HRG                                                 555\n",
       "0010480 HOSPITAL REGIONAL DE CEILANDIA                      461\n",
       "0010464 HRAN                                                432\n",
       "0010499 HRT HOSPITAL REGIONAL DE TAGUATINGA                 373\n",
       "0010510 HOSPITAL UNIVERSITARIO DE BRASILIA                  350\n",
       "2645157 HRPA                                                327\n",
       "0010537 HOSPITAL MATERNO INFANTIL DE BRASILIA HMIB          298\n",
       "5717515 HRSM                                                281\n",
       "0010529 HRPL                                                256\n",
       "0010502 HRS                                                 225\n",
       "2672197 HRSAM HOSPITAL REGIONAL DE SAMAMBAIA                195\n",
       "3276678 INSTITUTO DE CARDIOLOGIA DO DISTRITO FEDERAL        191\n",
       "0010545 HRBZ                                                 75\n",
       "6876617 HOSPITAL DA CRIANCA DE BRASILIA JOSE ALENCAR HCB     74\n",
       "3055450 CBV CENTRO BRASILEIRO DA VISAO                       34\n",
       "Name: Hospital, dtype: int64"
      ]
     },
     "execution_count": 10,
     "metadata": {},
     "output_type": "execute_result"
    }
   ],
   "source": [
    "# Quantas cirurgias foram realizadas em cada hospital - quantas vezes o Hospital se repetiu no arquivo\n",
    "df['Hospital'].value_counts()"
   ]
  },
  {
   "cell_type": "code",
   "execution_count": 11,
   "metadata": {},
   "outputs": [
    {
     "data": {
      "text/plain": [
       "Sub Grupo: 11 - Cirurgia obstétrica                                                   1539\n",
       "Sub Grupo: 07 - Cirurgia do aparelho digestivo, orgãos anexos e parede abdominal       893\n",
       "Sub Grupo: 08 - Cirurgia do sistema osteomuscular                                      651\n",
       "Sub Grupo: 09 - Cirurgia do aparelho geniturinário                                     474\n",
       "Sub Grupo: 06 - Cirurgia do aparelho circulatório                                      299\n",
       "Sub Grupo: 15 - Outras cirurgias                                                       223\n",
       "Sub Grupo: 04 - Cirurgia das vias aéreas superiores, da cabeça e do pescoço            145\n",
       "Sub Grupo: 03 - Cirurgia do sistema nervoso central e periférico                       141\n",
       "Sub Grupo: 16 - Cirurgia em oncologia                                                  110\n",
       "Sub Grupo: 05 - Cirurgia do aparelho da visão                                           98\n",
       "Sub Grupo: 12 - Cirurgia torácica                                                       92\n",
       "Sub Grupo: 01 - Pequenas cirurgias e cirurgias de pele, tecido subcutâneo e mucosa      77\n",
       "Sub Grupo: 10 - Cirurgia de mama                                                        68\n",
       "Sub Grupo: 13 - Cirurgia reparadora                                                     40\n",
       "Sub Grupo: 14 - Cirurgia oro-facial                                                      7\n",
       "Sub Grupo: 02 - Cirurgia de glândulas endócrinas                                         5\n",
       "Name: Sub Grupo Procedimento, dtype: int64"
      ]
     },
     "execution_count": 11,
     "metadata": {},
     "output_type": "execute_result"
    }
   ],
   "source": [
    "# Quantas cirurgias por Sub Grupo Procedimento\n",
    "df['Sub Grupo Procedimento'].value_counts()"
   ]
  },
  {
   "cell_type": "code",
   "execution_count": 12,
   "metadata": {},
   "outputs": [
    {
     "data": {
      "text/plain": [
       "<matplotlib.axes._subplots.AxesSubplot at 0x7fd9e0c4ffd0>"
      ]
     },
     "execution_count": 12,
     "metadata": {},
     "output_type": "execute_result"
    },
    {
     "data": {
      "image/png": "[encoded data removed]",
      "text/plain": [
       "<Figure size 432x288 with 1 Axes>"
      ]
     },
     "metadata": {
      "needs_background": "light"
     },
     "output_type": "display_data"
    }
   ],
   "source": [
    "# Plotar o gráfico por Sub Grupo Procedimento\n",
    "df['Sub Grupo Procedimento'].value_counts().plot.bar()"
   ]
  },
  {
   "cell_type": "code",
   "execution_count": 13,
   "metadata": {},
   "outputs": [
    {
     "data": {
      "text/html": [
       "<div>\n",
       "<style scoped>\n",
       "    .dataframe tbody tr th:only-of-type {\n",
       "        vertical-align: middle;\n",
       "    }\n",
       "\n",
       "    .dataframe tbody tr th {\n",
       "        vertical-align: top;\n",
       "    }\n",
       "\n",
       "    .dataframe thead th {\n",
       "        text-align: right;\n",
       "    }\n",
       "</style>\n",
       "<table border=\"1\" class=\"dataframe\">\n",
       "  <thead>\n",
       "    <tr style=\"text-align: right;\">\n",
       "      <th></th>\n",
       "      <th>Hospital</th>\n",
       "      <th>Municipio</th>\n",
       "      <th>Complexidade</th>\n",
       "      <th>Carater</th>\n",
       "      <th>Sub Grupo Procedimento</th>\n",
       "      <th>Procedimento</th>\n",
       "    </tr>\n",
       "  </thead>\n",
       "  <tbody>\n",
       "    <tr>\n",
       "      <td>1</td>\n",
       "      <td>0010456 HBDF HOSPITAL DE BASE DO DISTRITO FEDERAL</td>\n",
       "      <td>BRASILIA, DF, BR</td>\n",
       "      <td>Média complexidade</td>\n",
       "      <td>Urgência</td>\n",
       "      <td>Sub Grupo: 03 - Cirurgia do sistema nervoso ce...</td>\n",
       "      <td>DERIVACAO VENTRICULAR EXTERNAR-SUBGALEAL EXTERNA</td>\n",
       "    </tr>\n",
       "    <tr>\n",
       "      <td>2</td>\n",
       "      <td>0010456 HBDF HOSPITAL DE BASE DO DISTRITO FEDERAL</td>\n",
       "      <td>BRASILIA, DF, BR</td>\n",
       "      <td>Média complexidade</td>\n",
       "      <td>Urgência</td>\n",
       "      <td>Sub Grupo: 15 - Outras cirurgias</td>\n",
       "      <td>TRATAMENTO C/ CIRURGIAS MULTIPLAS</td>\n",
       "    </tr>\n",
       "  </tbody>\n",
       "</table>\n",
       "</div>"
      ],
      "text/plain": [
       "                                            Hospital          Municipio  \\\n",
       "1  0010456 HBDF HOSPITAL DE BASE DO DISTRITO FEDERAL  BRASILIA, DF, BR    \n",
       "2  0010456 HBDF HOSPITAL DE BASE DO DISTRITO FEDERAL  BRASILIA, DF, BR    \n",
       "\n",
       "         Complexidade   Carater  \\\n",
       "1  Média complexidade  Urgência   \n",
       "2  Média complexidade  Urgência   \n",
       "\n",
       "                              Sub Grupo Procedimento  \\\n",
       "1  Sub Grupo: 03 - Cirurgia do sistema nervoso ce...   \n",
       "2                   Sub Grupo: 15 - Outras cirurgias   \n",
       "\n",
       "                                       Procedimento  \n",
       "1  DERIVACAO VENTRICULAR EXTERNAR-SUBGALEAL EXTERNA  \n",
       "2                 TRATAMENTO C/ CIRURGIAS MULTIPLAS  "
      ]
     },
     "execution_count": 13,
     "metadata": {},
     "output_type": "execute_result"
    }
   ],
   "source": [
    "# Criamos um sub conjunto dos dados originais\n",
    "# Vamos criar o conjunto apenas com o Hospital que mais teve procedimentos, neste caso é o hospital de base\n",
    "df_hospbase = df[df['Hospital'] == '0010456 HBDF HOSPITAL DE BASE DO DISTRITO FEDERAL' ]\n",
    "\n",
    "# Linhas iniciais\n",
    "df_hospbase.head(2)"
   ]
  },
  {
   "cell_type": "code",
   "execution_count": 14,
   "metadata": {},
   "outputs": [
    {
     "data": {
      "text/html": [
       "<div>\n",
       "<style scoped>\n",
       "    .dataframe tbody tr th:only-of-type {\n",
       "        vertical-align: middle;\n",
       "    }\n",
       "\n",
       "    .dataframe tbody tr th {\n",
       "        vertical-align: top;\n",
       "    }\n",
       "\n",
       "    .dataframe thead th {\n",
       "        text-align: right;\n",
       "    }\n",
       "</style>\n",
       "<table border=\"1\" class=\"dataframe\">\n",
       "  <thead>\n",
       "    <tr style=\"text-align: right;\">\n",
       "      <th></th>\n",
       "      <th>Hospital</th>\n",
       "      <th>Municipio</th>\n",
       "      <th>Complexidade</th>\n",
       "      <th>Carater</th>\n",
       "      <th>Sub Grupo Procedimento</th>\n",
       "      <th>Procedimento</th>\n",
       "    </tr>\n",
       "  </thead>\n",
       "  <tbody>\n",
       "    <tr>\n",
       "      <td>2372</td>\n",
       "      <td>0010456 HBDF HOSPITAL DE BASE DO DISTRITO FEDERAL</td>\n",
       "      <td>BRASILIA, DF, BR</td>\n",
       "      <td>Alta complexidade</td>\n",
       "      <td>Eletivo</td>\n",
       "      <td>Sub Grupo: 16 - Cirurgia em oncologia</td>\n",
       "      <td>SEGMENTECTOMIA/QUADRANTECTOMIA/SETORECTOMIA DE...</td>\n",
       "    </tr>\n",
       "    <tr>\n",
       "      <td>2373</td>\n",
       "      <td>0010456 HBDF HOSPITAL DE BASE DO DISTRITO FEDERAL</td>\n",
       "      <td>BRASILIA, DF, BR</td>\n",
       "      <td>Alta complexidade</td>\n",
       "      <td>Eletivo</td>\n",
       "      <td>Sub Grupo: 06 - Cirurgia do aparelho circulatório</td>\n",
       "      <td>ESTUDO ELETROFISIOLOGICO TERAPEUTICO II (ABLAC...</td>\n",
       "    </tr>\n",
       "  </tbody>\n",
       "</table>\n",
       "</div>"
      ],
      "text/plain": [
       "                                               Hospital          Municipio  \\\n",
       "2372  0010456 HBDF HOSPITAL DE BASE DO DISTRITO FEDERAL  BRASILIA, DF, BR    \n",
       "2373  0010456 HBDF HOSPITAL DE BASE DO DISTRITO FEDERAL  BRASILIA, DF, BR    \n",
       "\n",
       "           Complexidade  Carater  \\\n",
       "2372  Alta complexidade  Eletivo   \n",
       "2373  Alta complexidade  Eletivo   \n",
       "\n",
       "                                 Sub Grupo Procedimento  \\\n",
       "2372              Sub Grupo: 16 - Cirurgia em oncologia   \n",
       "2373  Sub Grupo: 06 - Cirurgia do aparelho circulatório   \n",
       "\n",
       "                                           Procedimento  \n",
       "2372  SEGMENTECTOMIA/QUADRANTECTOMIA/SETORECTOMIA DE...  \n",
       "2373  ESTUDO ELETROFISIOLOGICO TERAPEUTICO II (ABLAC...  "
      ]
     },
     "execution_count": 14,
     "metadata": {},
     "output_type": "execute_result"
    }
   ],
   "source": [
    "# Linhas finais\n",
    "df_hospbase.tail(2)"
   ]
  },
  {
   "cell_type": "code",
   "execution_count": 26,
   "metadata": {},
   "outputs": [
    {
     "data": {
      "text/html": [
       "<div>\n",
       "<style scoped>\n",
       "    .dataframe tbody tr th:only-of-type {\n",
       "        vertical-align: middle;\n",
       "    }\n",
       "\n",
       "    .dataframe tbody tr th {\n",
       "        vertical-align: top;\n",
       "    }\n",
       "\n",
       "    .dataframe thead th {\n",
       "        text-align: right;\n",
       "    }\n",
       "</style>\n",
       "<table border=\"1\" class=\"dataframe\">\n",
       "  <thead>\n",
       "    <tr style=\"text-align: right;\">\n",
       "      <th></th>\n",
       "      <th>Hospital</th>\n",
       "      <th>Municipio</th>\n",
       "      <th>Complexidade</th>\n",
       "      <th>Carater</th>\n",
       "      <th>Sub Grupo Procedimento</th>\n",
       "      <th>Procedimento</th>\n",
       "    </tr>\n",
       "  </thead>\n",
       "  <tbody>\n",
       "    <tr>\n",
       "      <td>115</td>\n",
       "      <td>0010456 HBDF HOSPITAL DE BASE DO DISTRITO FEDERAL</td>\n",
       "      <td>BRASILIA, DF, BR</td>\n",
       "      <td>Média complexidade</td>\n",
       "      <td>Urgência</td>\n",
       "      <td>Sub Grupo: 09 - Cirurgia do aparelho geniturin...</td>\n",
       "      <td>ORQUIDOPEXIA BILATERAL</td>\n",
       "    </tr>\n",
       "    <tr>\n",
       "      <td>2077</td>\n",
       "      <td>0010456 HBDF HOSPITAL DE BASE DO DISTRITO FEDERAL</td>\n",
       "      <td>BRASILIA, DF, BR</td>\n",
       "      <td>Média complexidade</td>\n",
       "      <td>Urgência</td>\n",
       "      <td>Sub Grupo: 06 - Cirurgia do aparelho circulatório</td>\n",
       "      <td>EMBOLECTOMIA ARTERIAL</td>\n",
       "    </tr>\n",
       "    <tr>\n",
       "      <td>35</td>\n",
       "      <td>0010456 HBDF HOSPITAL DE BASE DO DISTRITO FEDERAL</td>\n",
       "      <td>BRASILIA, DF, BR</td>\n",
       "      <td>Média complexidade</td>\n",
       "      <td>Urgência</td>\n",
       "      <td>Sub Grupo: 08 - Cirurgia do sistema osteomuscular</td>\n",
       "      <td>REDUCAO INCRUENTA DE FRATURA / LUXACAO / FRATU...</td>\n",
       "    </tr>\n",
       "    <tr>\n",
       "      <td>1616</td>\n",
       "      <td>0010456 HBDF HOSPITAL DE BASE DO DISTRITO FEDERAL</td>\n",
       "      <td>BRASILIA, DF, BR</td>\n",
       "      <td>Alta complexidade</td>\n",
       "      <td>Urgência</td>\n",
       "      <td>Sub Grupo: 16 - Cirurgia em oncologia</td>\n",
       "      <td>SEGMENTECTOMIA/QUADRANTECTOMIA/SETORECTOMIA DE...</td>\n",
       "    </tr>\n",
       "    <tr>\n",
       "      <td>2016</td>\n",
       "      <td>0010456 HBDF HOSPITAL DE BASE DO DISTRITO FEDERAL</td>\n",
       "      <td>BRASILIA, DF, BR</td>\n",
       "      <td>Média complexidade</td>\n",
       "      <td>Outros tipos lesões/envenenamentos por agentes...</td>\n",
       "      <td>Sub Grupo: 12 - Cirurgia torácica</td>\n",
       "      <td>TORACOSTOMIA COM DRENAGEM PLEURAL FECHADA</td>\n",
       "    </tr>\n",
       "  </tbody>\n",
       "</table>\n",
       "</div>"
      ],
      "text/plain": [
       "                                               Hospital          Municipio  \\\n",
       "115   0010456 HBDF HOSPITAL DE BASE DO DISTRITO FEDERAL  BRASILIA, DF, BR    \n",
       "2077  0010456 HBDF HOSPITAL DE BASE DO DISTRITO FEDERAL  BRASILIA, DF, BR    \n",
       "35    0010456 HBDF HOSPITAL DE BASE DO DISTRITO FEDERAL  BRASILIA, DF, BR    \n",
       "1616  0010456 HBDF HOSPITAL DE BASE DO DISTRITO FEDERAL  BRASILIA, DF, BR    \n",
       "2016  0010456 HBDF HOSPITAL DE BASE DO DISTRITO FEDERAL  BRASILIA, DF, BR    \n",
       "\n",
       "            Complexidade                                            Carater  \\\n",
       "115   Média complexidade                                           Urgência   \n",
       "2077  Média complexidade                                           Urgência   \n",
       "35    Média complexidade                                           Urgência   \n",
       "1616   Alta complexidade                                           Urgência   \n",
       "2016  Média complexidade  Outros tipos lesões/envenenamentos por agentes...   \n",
       "\n",
       "                                 Sub Grupo Procedimento  \\\n",
       "115   Sub Grupo: 09 - Cirurgia do aparelho geniturin...   \n",
       "2077  Sub Grupo: 06 - Cirurgia do aparelho circulatório   \n",
       "35    Sub Grupo: 08 - Cirurgia do sistema osteomuscular   \n",
       "1616              Sub Grupo: 16 - Cirurgia em oncologia   \n",
       "2016                  Sub Grupo: 12 - Cirurgia torácica   \n",
       "\n",
       "                                           Procedimento  \n",
       "115                              ORQUIDOPEXIA BILATERAL  \n",
       "2077                              EMBOLECTOMIA ARTERIAL  \n",
       "35    REDUCAO INCRUENTA DE FRATURA / LUXACAO / FRATU...  \n",
       "1616  SEGMENTECTOMIA/QUADRANTECTOMIA/SETORECTOMIA DE...  \n",
       "2016          TORACOSTOMIA COM DRENAGEM PLEURAL FECHADA  "
      ]
     },
     "execution_count": 26,
     "metadata": {},
     "output_type": "execute_result"
    }
   ],
   "source": [
    "# O Sample mostra algumas linhas aleatórias do arquivo\n",
    "df_hospbase.sample(5)"
   ]
  },
  {
   "cell_type": "code",
   "execution_count": 29,
   "metadata": {},
   "outputs": [
    {
     "data": {
      "text/plain": [
       "TRATAMENTO C/ CIRURGIAS MULTIPLAS                                               47\n",
       "TRAQUEOSTOMIA                                                                   28\n",
       "DERIVACAO VENTRICULAR PARA PERITONEO / ATRIO / PLEURA / RAQUE                   26\n",
       "TORACOSTOMIA COM DRENAGEM PLEURAL FECHADA                                       23\n",
       "IMPLANTE DE MARCAPASSO DE CAMARA DUPLA TRANSVENOSO                              21\n",
       "                                                                                ..\n",
       "ESTUDO ELETROFISIOLOGICO TERAPEUTICO II (ABLACAO DE VIAS ANOMALAS ESQUERDAS)     1\n",
       "TRATAMENTO CIRÚRGICO DE FÍSTULA CUTÂNEA DE ORIGEM DENTÁRIA                       1\n",
       "TROCA DE GERADOR DE MARCAPASSO DE CAMARA UNICA                                   1\n",
       "DESCORTICAÇÃO PULMONAR                                                           1\n",
       "RECONSTRUÇÃO DE POLIA TENDINOSA DOS DEDOS DA MÃO                                 1\n",
       "Name: Procedimento, Length: 242, dtype: int64"
      ]
     },
     "execution_count": 29,
     "metadata": {},
     "output_type": "execute_result"
    }
   ],
   "source": [
    "# Verificar a quantidade de procedimentos realizados no hospital de base\n",
    "df_hospbase['Procedimento'].value_counts()"
   ]
  },
  {
   "cell_type": "code",
   "execution_count": 33,
   "metadata": {},
   "outputs": [
    {
     "data": {
      "text/plain": [
       "Hospital                  33\n",
       "Municipio                 33\n",
       "Complexidade              33\n",
       "Carater                   33\n",
       "Sub Grupo Procedimento    33\n",
       "Procedimento              33\n",
       "dtype: int64"
      ]
     },
     "execution_count": 33,
     "metadata": {},
     "output_type": "execute_result"
    }
   ],
   "source": [
    "# Contar o número de procedimentos relacionados com amputação\n",
    "df_hospbase[df_hospbase['Procedimento'].str.contains('AMPUTA')].count()"
   ]
  },
  {
   "cell_type": "code",
   "execution_count": 50,
   "metadata": {},
   "outputs": [
    {
     "data": {
      "text/html": [
       "<div>\n",
       "<style scoped>\n",
       "    .dataframe tbody tr th:only-of-type {\n",
       "        vertical-align: middle;\n",
       "    }\n",
       "\n",
       "    .dataframe tbody tr th {\n",
       "        vertical-align: top;\n",
       "    }\n",
       "\n",
       "    .dataframe thead th {\n",
       "        text-align: right;\n",
       "    }\n",
       "</style>\n",
       "<table border=\"1\" class=\"dataframe\">\n",
       "  <thead>\n",
       "    <tr style=\"text-align: right;\">\n",
       "      <th></th>\n",
       "      <th>Hospital</th>\n",
       "      <th>Municipio</th>\n",
       "      <th>Complexidade</th>\n",
       "      <th>Carater</th>\n",
       "      <th>Sub Grupo Procedimento</th>\n",
       "      <th>Procedimento</th>\n",
       "    </tr>\n",
       "  </thead>\n",
       "  <tbody>\n",
       "    <tr>\n",
       "      <td>130</td>\n",
       "      <td>0010545 HRBZ</td>\n",
       "      <td>BRAZLANDIA, DF, BR</td>\n",
       "      <td>Média complexidade</td>\n",
       "      <td>Urgência</td>\n",
       "      <td>Sub Grupo: 11 - Cirurgia obstétrica</td>\n",
       "      <td>PARTO CESARIANO</td>\n",
       "    </tr>\n",
       "    <tr>\n",
       "      <td>131</td>\n",
       "      <td>0010545 HRBZ</td>\n",
       "      <td>BRAZLANDIA, DF, BR</td>\n",
       "      <td>Média complexidade</td>\n",
       "      <td>Urgência</td>\n",
       "      <td>Sub Grupo: 11 - Cirurgia obstétrica</td>\n",
       "      <td>PARTO CESARIANO</td>\n",
       "    </tr>\n",
       "    <tr>\n",
       "      <td>132</td>\n",
       "      <td>0010545 HRBZ</td>\n",
       "      <td>BRAZLANDIA, DF, BR</td>\n",
       "      <td>Média complexidade</td>\n",
       "      <td>Urgência</td>\n",
       "      <td>Sub Grupo: 11 - Cirurgia obstétrica</td>\n",
       "      <td>PARTO CESARIANO</td>\n",
       "    </tr>\n",
       "  </tbody>\n",
       "</table>\n",
       "</div>"
      ],
      "text/plain": [
       "         Hospital            Municipio        Complexidade   Carater  \\\n",
       "130  0010545 HRBZ  BRAZLANDIA, DF, BR   Média complexidade  Urgência   \n",
       "131  0010545 HRBZ  BRAZLANDIA, DF, BR   Média complexidade  Urgência   \n",
       "132  0010545 HRBZ  BRAZLANDIA, DF, BR   Média complexidade  Urgência   \n",
       "\n",
       "                  Sub Grupo Procedimento     Procedimento  \n",
       "130  Sub Grupo: 11 - Cirurgia obstétrica  PARTO CESARIANO  \n",
       "131  Sub Grupo: 11 - Cirurgia obstétrica  PARTO CESARIANO  \n",
       "132  Sub Grupo: 11 - Cirurgia obstétrica  PARTO CESARIANO  "
      ]
     },
     "execution_count": 50,
     "metadata": {},
     "output_type": "execute_result"
    }
   ],
   "source": [
    "# Dividir o dataFrame original apenas com os Procedimentos de parto\n",
    "df_parto = df[df['Procedimento'].str.contains('PARTO')]\n",
    "\n",
    "# Verifico as 3 primeiras linhas do arquivo\n",
    "df_parto.head(3)"
   ]
  },
  {
   "cell_type": "code",
   "execution_count": 51,
   "metadata": {},
   "outputs": [
    {
     "data": {
      "text/html": [
       "<div>\n",
       "<style scoped>\n",
       "    .dataframe tbody tr th:only-of-type {\n",
       "        vertical-align: middle;\n",
       "    }\n",
       "\n",
       "    .dataframe tbody tr th {\n",
       "        vertical-align: top;\n",
       "    }\n",
       "\n",
       "    .dataframe thead th {\n",
       "        text-align: right;\n",
       "    }\n",
       "</style>\n",
       "<table border=\"1\" class=\"dataframe\">\n",
       "  <thead>\n",
       "    <tr style=\"text-align: right;\">\n",
       "      <th></th>\n",
       "      <th>Hospital</th>\n",
       "      <th>Municipio</th>\n",
       "      <th>Complexidade</th>\n",
       "      <th>Carater</th>\n",
       "      <th>Sub Grupo Procedimento</th>\n",
       "      <th>Procedimento</th>\n",
       "    </tr>\n",
       "  </thead>\n",
       "  <tbody>\n",
       "    <tr>\n",
       "      <td>4848</td>\n",
       "      <td>0010480 HOSPITAL REGIONAL DE CEILANDIA</td>\n",
       "      <td>CEILANDIA, DF, BR</td>\n",
       "      <td>Média complexidade</td>\n",
       "      <td>Urgência</td>\n",
       "      <td>Sub Grupo: 11 - Cirurgia obstétrica</td>\n",
       "      <td>PARTO CESARIANO</td>\n",
       "    </tr>\n",
       "    <tr>\n",
       "      <td>4849</td>\n",
       "      <td>0010480 HOSPITAL REGIONAL DE CEILANDIA</td>\n",
       "      <td>CEILANDIA, DF, BR</td>\n",
       "      <td>Média complexidade</td>\n",
       "      <td>Urgência</td>\n",
       "      <td>Sub Grupo: 11 - Cirurgia obstétrica</td>\n",
       "      <td>PARTO CESARIANO</td>\n",
       "    </tr>\n",
       "    <tr>\n",
       "      <td>4850</td>\n",
       "      <td>0010480 HOSPITAL REGIONAL DE CEILANDIA</td>\n",
       "      <td>CEILANDIA, DF, BR</td>\n",
       "      <td>Média complexidade</td>\n",
       "      <td>Urgência</td>\n",
       "      <td>Sub Grupo: 11 - Cirurgia obstétrica</td>\n",
       "      <td>PARTO CESARIANO</td>\n",
       "    </tr>\n",
       "  </tbody>\n",
       "</table>\n",
       "</div>"
      ],
      "text/plain": [
       "                                    Hospital           Municipio  \\\n",
       "4848  0010480 HOSPITAL REGIONAL DE CEILANDIA  CEILANDIA, DF, BR    \n",
       "4849  0010480 HOSPITAL REGIONAL DE CEILANDIA  CEILANDIA, DF, BR    \n",
       "4850  0010480 HOSPITAL REGIONAL DE CEILANDIA  CEILANDIA, DF, BR    \n",
       "\n",
       "            Complexidade   Carater               Sub Grupo Procedimento  \\\n",
       "4848  Média complexidade  Urgência  Sub Grupo: 11 - Cirurgia obstétrica   \n",
       "4849  Média complexidade  Urgência  Sub Grupo: 11 - Cirurgia obstétrica   \n",
       "4850  Média complexidade  Urgência  Sub Grupo: 11 - Cirurgia obstétrica   \n",
       "\n",
       "         Procedimento  \n",
       "4848  PARTO CESARIANO  \n",
       "4849  PARTO CESARIANO  \n",
       "4850  PARTO CESARIANO  "
      ]
     },
     "execution_count": 51,
     "metadata": {},
     "output_type": "execute_result"
    }
   ],
   "source": [
    "# Verifico as 3 últimas linhas do arquivo\n",
    "df_parto.tail(3)"
   ]
  },
  {
   "cell_type": "code",
   "execution_count": 52,
   "metadata": {},
   "outputs": [
    {
     "data": {
      "text/plain": [
       "Hospital                  1316\n",
       "Municipio                 1316\n",
       "Complexidade              1316\n",
       "Carater                   1316\n",
       "Sub Grupo Procedimento    1316\n",
       "Procedimento              1316\n",
       "dtype: int64"
      ]
     },
     "execution_count": 52,
     "metadata": {},
     "output_type": "execute_result"
    }
   ],
   "source": [
    "# Verifico quantos procedimentos de parto existem nos dados\n",
    "df_parto.count()"
   ]
  },
  {
   "cell_type": "code",
   "execution_count": 53,
   "metadata": {},
   "outputs": [
    {
     "data": {
      "text/plain": [
       "PARTO CESARIANO                                                         1060\n",
       "PARTO CESARIANO EM GESTACAO DE ALTO RISCO                                166\n",
       "SUTURA DE LACERACOES DE TRAJETO PELVICO (NO PARTO ANTES DA ADMISSAO)      56\n",
       "PARTO CESARIANO C/ LAQUEADURA TUBARIA                                     34\n",
       "Name: Procedimento, dtype: int64"
      ]
     },
     "execution_count": 53,
     "metadata": {},
     "output_type": "execute_result"
    }
   ],
   "source": [
    "# Verificar a quantidade de partos por tipo de parto\n",
    "df_parto['Procedimento'].value_counts()"
   ]
  },
  {
   "cell_type": "code",
   "execution_count": 54,
   "metadata": {},
   "outputs": [
    {
     "data": {
      "text/plain": [
       "0010472 HRG                                           184\n",
       "0010480 HOSPITAL REGIONAL DE CEILANDIA                169\n",
       "0010537 HOSPITAL MATERNO INFANTIL DE BRASILIA HMIB    135\n",
       "2645157 HRPA                                          124\n",
       "5717515 HRSM                                          110\n",
       "0010464 HRAN                                          104\n",
       "0010502 HRS                                           103\n",
       "0010510 HOSPITAL UNIVERSITARIO DE BRASILIA             99\n",
       "2672197 HRSAM HOSPITAL REGIONAL DE SAMAMBAIA           94\n",
       "0010529 HRPL                                           84\n",
       "0010499 HRT HOSPITAL REGIONAL DE TAGUATINGA            76\n",
       "0010545 HRBZ                                           34\n",
       "Name: Hospital, dtype: int64"
      ]
     },
     "execution_count": 54,
     "metadata": {},
     "output_type": "execute_result"
    }
   ],
   "source": [
    "# Verifico a quantidade de partos por hospital\n",
    "df_parto['Hospital'].value_counts()"
   ]
  },
  {
   "cell_type": "code",
   "execution_count": 55,
   "metadata": {},
   "outputs": [
    {
     "data": {
      "text/plain": [
       "Urgência    1293\n",
       "Eletivo       23\n",
       "Name: Carater, dtype: int64"
      ]
     },
     "execution_count": 55,
     "metadata": {},
     "output_type": "execute_result"
    }
   ],
   "source": [
    "# Ver a quantidade de partos por Carater de Atendimento\n",
    "df_parto['Carater'].value_counts()"
   ]
  },
  {
   "cell_type": "code",
   "execution_count": 56,
   "metadata": {},
   "outputs": [
    {
     "data": {
      "text/plain": [
       "<matplotlib.axes._subplots.AxesSubplot at 0x7fd9db6eba50>"
      ]
     },
     "execution_count": 56,
     "metadata": {},
     "output_type": "execute_result"
    },
    {
     "data": {
      "image/png": "[encoded data removed]",
      "text/plain": [
       "<Figure size 432x288 with 1 Axes>"
      ]
     },
     "metadata": {
      "needs_background": "light"
     },
     "output_type": "display_data"
    }
   ],
   "source": [
    "# PLotar um gráfico de barras horizontal com o número de partos cesarianos por hospital\n",
    "df_parto['Hospital'].value_counts().plot.barh()"
   ]
  },
  {
   "cell_type": "code",
   "execution_count": 58,
   "metadata": {},
   "outputs": [
    {
     "data": {
      "text/plain": [
       "<matplotlib.axes._subplots.AxesSubplot at 0x7fd9db7b2810>"
      ]
     },
     "execution_count": 58,
     "metadata": {},
     "output_type": "execute_result"
    },
    {
     "data": {
      "image/png": "[encoded data removed]",
      "text/plain": [
       "<Figure size 432x288 with 1 Axes>"
      ]
     },
     "metadata": {
      "needs_background": "light"
     },
     "output_type": "display_data"
    }
   ],
   "source": [
    "# Melhorar o gráfico de barras\n",
    "# Inverter a ordem e informar um título\n",
    "# ascending=True - é o parâmetro que informa para o vale_counts para ordenar os dados de forma ascendente \n",
    "# title - parâmetro que informa um título para o gráfico\n",
    "df_parto['Hospital'].value_counts(ascending=True).plot.barh(title='Quantidade de Partos por Hospital')"
   ]
  },
  {
   "cell_type": "code",
   "execution_count": null,
   "metadata": {},
   "outputs": [],
   "source": []
  }
 ],
 "metadata": {
  "kernelspec": {
   "display_name": "Python 3",
   "language": "python",
   "name": "python3"
  },
  "language_info": {
   "codemirror_mode": {
    "name": "ipython",
    "version": 3
   },
   "file_extension": ".py",
   "mimetype": "text/x-python",
   "name": "python",
   "nbconvert_exporter": "python",
   "pygments_lexer": "ipython3",
   "version": "3.7.4"
  }
 },
 "nbformat": 4,
 "nbformat_minor": 4
}
